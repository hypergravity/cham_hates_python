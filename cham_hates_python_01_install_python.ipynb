{
 "cells": [
  {
   "cell_type": "markdown",
   "metadata": {},
   "source": [
    "<img src=\"https://www.python.org/static/img/python-logo.png\">\n",
    "\n",
    "# Welcome to my lessons\n",
    "\n",
    "---\n",
    "\n",
    "**Bo Zhang** (NAOC, <mailto:bozhang@nao.cas.cn>) will have a few lessons on python.\n",
    "\n",
    "- These are **very useful knowledge, skills and code styles** when you use `python` to process astronomical data.\n",
    "- All materials can be found on [**my github page**](https://github.com/hypergravity/cham_teaches_python).\n",
    "- **jupyter notebook** (formerly named **ipython notebook**) is recommeded to use\n",
    "\n",
    "---\n",
    "These lectures are organized as below:\n",
    "1. install python\n",
    "2. basic syntax\n",
    "3. numerical computing\n",
    "4. scientific computing\n",
    "5. plotting\n",
    "6. astronomical data processing\n",
    "7. high performance computing\n",
    "8. version control\n"
   ]
  },
  {
   "cell_type": "markdown",
   "metadata": {},
   "source": [
    "# What is `python`?\n",
    "- Python is an **interpreted**, **object-oriented**, **high-level** programming language with **dynamic semantics**.\n",
    "- Its high-level built in data structures, combined with dynamic typing and dynamic binding, make it very attractive for Rapid Application Development, as well as for use as a scripting or glue language to connect existing components together. \n",
    "- Python's simple, easy to learn syntax emphasizes readability and therefore reduces the cost of program maintenance. \n",
    "- Python supports modules and packages, which encourages program modularity and code reuse.\n",
    "- The Python interpreter and the extensive standard library are available in source or binary form without charge for all major platforms, and can be freely distributed.\n",
    "\n",
    "***\n",
    "Often, programmers fall in love with Python because of the increased productivity it provides. Since there is **no compilation step**, the edit-test-debug cycle is incredibly fast. Debugging Python programs is easy: a bug or bad input will never cause a segmentation fault. Instead, when the interpreter discovers an error, it raises an **exception**. When the program doesn't catch the exception, the interpreter prints a stack trace. A source level debugger allows inspection of local and global variables, evaluation of arbitrary expressions, setting breakpoints, stepping through the code a line at a time, and so on. The debugger is written in Python itself, testifying to Python's introspective power. On the other hand, **often the quickest way to debug a program is to add a few print statements to the source: the fast edit-test-debug cycle makes this simple approach very effective**.\n",
    "\n",
    "*reference*: [https://www.python.org/doc/essays/blurb/](https://www.python.org/doc/essays/blurb/)\n",
    "\n",
    "*comparison with some other programming languages*: [https://www.python.org/doc/essays/comparisons/](https://www.python.org/doc/essays/comparisons/)"
   ]
  },
  {
   "cell_type": "markdown",
   "metadata": {},
   "source": [
    "# Advantages as scientific/astronomical computing language\n",
    "1. easy-to-use/understand\n",
    "2. extensions\n",
    "3. astronomical packages\n",
    "4. high performance computing\n",
    "5. open source\n"
   ]
  },
  {
   "cell_type": "markdown",
   "metadata": {},
   "source": [
    "# Websites you must know if you use python\n",
    "- python.org: [https://www.python.org/](https://www.python.org/)\n",
    " - this is the official web page of `python`\n",
    " ![www.python.org](./stuff01/Screenshot from 2016-06-12 15:26:58.png)\n",
    "- pypi (**PY**thon **P**ackage **I**ndex): [https://pypi.python.org/pypi](https://pypi.python.org/pypi)\n",
    " - from here, you can download almost all `python` packages\n",
    " ![](./stuff01/Screenshot from 2016-06-12 15:16:33.png)"
   ]
  },
  {
   "cell_type": "markdown",
   "metadata": {},
   "source": [
    "# How to install python?\n",
    "type these in your terminal:\n",
    "```\n",
    "$ sudo apt-get install pip\n",
    "$ sudo pip install python\n",
    "```\n",
    "`pip` can install almost all `python` packages.\n",
    "So I recommend you use this to install all packages.\n",
    "\n",
    "An alternative is to use `easy_install`, which is a very similar tool.\n",
    "\n",
    "type `$ python` to enter the python shell\n",
    "![](./stuff01/Screenshot from 2016-06-12 15:37:21.png)\n"
   ]
  },
  {
   "cell_type": "code",
   "execution_count": 1,
   "metadata": {
    "collapsed": false
   },
   "outputs": [
    {
     "name": "stdout",
     "output_type": "stream",
     "text": [
      "Hello World\n"
     ]
    }
   ],
   "source": [
    "print \"Hello World\""
   ]
  },
  {
   "cell_type": "markdown",
   "metadata": {},
   "source": [
    "# Recommended IDEs (Interactive Development Environments)\n",
    "- [spyder](https://github.com/spyder-ide/spyder) / [python(x,y)](http://python-xy.github.io/) / [anaconda](https://www.continuum.io/why-anaconda)\n",
    " - scientific computing\n",
    " - easy-to-use\n",
    " - ipython backend\n",
    " - profile\n",
    "![](https://upload.wikimedia.org/wikipedia/commons/thumb/7/7e/Spyder_logo.svg/100px-Spyder_logo.svg.png)\n",
    "![](./stuff01/Screenshot from 2016-06-12 15:56:43.png )\n",
    "\n",
    "- [jupyter console / qtconsole (ipython / ipython qtconsole)](https://ipython.org/)\n",
    " - shell-like\n",
    " - magic functions\n",
    "![](./stuff01/Screenshot from 2016-06-12 16:13:59.png)\n",
    "![](./stuff01/Screenshot from 2016-06-12 16:15:16.png)\n",
    "\n",
    "- [jupyter notebook (ipython notebook)](http://jupyter.org/)\n",
    " - magic functions\n",
    " - markdown\n",
    " - various format (html, pdf, ...)\n",
    "![](./stuff01/Screenshot from 2016-06-12 16:24:08.png)\n",
    "\n",
    "- [JetBrain (Pycharm)](https://www.jetbrains.com/)\n",
    " - code folding\n",
    " - version control\n",
    " - module test\n",
    " - code reformat\n",
    "![](./stuff01/Screenshot from 2016-06-12 16:26:01.png)"
   ]
  },
  {
   "cell_type": "code",
   "execution_count": 2,
   "metadata": {
    "collapsed": true
   },
   "outputs": [],
   "source": [
    "%magic"
   ]
  },
  {
   "cell_type": "code",
   "execution_count": 3,
   "metadata": {
    "collapsed": false
   },
   "outputs": [
    {
     "name": "stdout",
     "output_type": "stream",
     "text": [
      ".\n",
      "..\n",
      "cham_teaches_python_01_install_python.html\n",
      "cham_teaches_python_01_install_python.ipynb\n",
      "cham_teaches_python_02_basic_syntax.html\n",
      "cham_teaches_python_02_basic_syntax.ipynb\n",
      "cham_teaches_python_03_numerical_computing.html\n",
      "cham_teaches_python_03_numerical_computing.ipynb\n",
      "cham_teaches_python_04_plotting.html\n",
      "cham_teaches_python_04_plotting.ipynb\n",
      "cham_teaches_python_04_scientific_computing_optimization.ipynb\n",
      "cham_teaches_python_05_aplpy_healpy.html\n",
      "cham_teaches_python_05_aplpy_healpy.ipynb\n",
      "cham_teaches_python_05_astronomical_data_processing.html\n",
      "cham_teaches_python_05_astronomical_data_processing.ipynb\n",
      "cham_teaches_python_06_high_performance_computing.html\n",
      "cham_teaches_python_06_high_performance_computing.ipynb\n",
      "cham_teaches_python_07_version_control.html\n",
      "cham_teaches_python_07_version_control.ipynb\n",
      "data\n",
      "exercise\n",
      ".git\n",
      ".gitignore\n",
      ".ipynb_checkpoints\n",
      "stuff01\n",
      "test.pdf\n"
     ]
    }
   ],
   "source": [
    "%%bash\n",
    "ls -a"
   ]
  },
  {
   "cell_type": "code",
   "execution_count": null,
   "metadata": {
    "collapsed": true
   },
   "outputs": [],
   "source": []
  },
  {
   "cell_type": "markdown",
   "metadata": {
    "collapsed": true
   },
   "source": [
    "# HOMEWORK\n",
    "1. try to install python & numpy using `pip`\n",
    "2. try at least two of the (recommended) python IDEs\n",
    "3. try at least two of the magic function in jupyter/ipython"
   ]
  },
  {
   "cell_type": "code",
   "execution_count": null,
   "metadata": {
    "collapsed": true
   },
   "outputs": [],
   "source": []
  }
 ],
 "metadata": {
  "kernelspec": {
   "display_name": "Python 2",
   "language": "python",
   "name": "python2"
  },
  "language_info": {
   "codemirror_mode": {
    "name": "ipython",
    "version": 2
   },
   "file_extension": ".py",
   "mimetype": "text/x-python",
   "name": "python",
   "nbconvert_exporter": "python",
   "pygments_lexer": "ipython2",
   "version": "2.7.11+"
  }
 },
 "nbformat": 4,
 "nbformat_minor": 0
}
