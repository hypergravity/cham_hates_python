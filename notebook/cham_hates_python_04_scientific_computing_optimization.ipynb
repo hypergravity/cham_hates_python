{
 "cells": [
  {
   "cell_type": "markdown",
   "metadata": {},
   "source": [
    "<img src=\"https://www.python.org/static/img/python-logo.png\">\n",
    "\n",
    "# Welcome to my lessons\n",
    "\n",
    "---\n",
    "\n",
    "**Bo Zhang** (NAOC, <mailto:bozhang@nao.cas.cn>) will have a few lessons on python.\n",
    "\n",
    "- These are **very useful knowledge, skills and code styles** when you use `python` to process astronomical data.\n",
    "- All materials can be found on [**my github page**](https://github.com/hypergravity/cham_teaches_python).\n",
    "- **jupyter notebook** (formerly named **ipython notebook**) is recommeded to use\n",
    "\n",
    "---\n",
    "These lectures are organized as below:\n",
    "1. install python\n",
    "2. basic syntax\n",
    "3. numerical computing\n",
    "4. scientific computing\n",
    "5. plotting\n",
    "6. astronomical data processing\n",
    "7. high performance computing\n",
    "8. version control\n"
   ]
  },
  {
   "cell_type": "markdown",
   "metadata": {},
   "source": [
    "# numpy\n",
    "Docs: [http://docs.scipy.org/doc/numpy/user/index.html](http://docs.scipy.org/doc/numpy/user/index.html)\n",
    "# scipy\n",
    "Docs: [http://docs.scipy.org/doc/scipy/reference/index.html](http://docs.scipy.org/doc/scipy/reference/index.html)"
   ]
  },
  {
   "cell_type": "markdown",
   "metadata": {},
   "source": [
    "# scipy.optimize.minimize\n",
    "Docs: [http://docs.scipy.org/doc/scipy/reference/generated/scipy.optimize.minimize.html](http://docs.scipy.org/doc/scipy/reference/generated/scipy.optimize.minimize.html)"
   ]
  },
  {
   "cell_type": "markdown",
   "metadata": {},
   "source": [
    "# optimization / minimization\n",
    "![](https://upload.wikimedia.org/wikipedia/commons/7/72/Max_paraboloid.svg)"
   ]
  },
  {
   "cell_type": "code",
   "execution_count": 1,
   "metadata": {
    "collapsed": false
   },
   "outputs": [
    {
     "name": "stdout",
     "output_type": "stream",
     "text": [
      "Populating the interactive namespace from numpy and matplotlib\n"
     ]
    },
    {
     "data": {
      "image/png": "[encoded data removed]",
      "text/plain": [
       "<matplotlib.figure.Figure at 0x7f78fa745710>"
      ]
     },
     "metadata": {},
     "output_type": "display_data"
    }
   ],
   "source": [
    "%pylab inline\n",
    "np.random.seed(0)\n",
    "p = [3.2, 5.6, 9.2]\n",
    "x = np.arange(-8., 5., 0.1)\n",
    "y = np.polyval(p, x) + np.random.randn(x.shape[0])*1.\n",
    "\n",
    "plt.plot(x, y);"
   ]
  },
  {
   "cell_type": "code",
   "execution_count": 2,
   "metadata": {
    "collapsed": false
   },
   "outputs": [],
   "source": [
    "# STEP 1 - define your model\n",
    "def my_model(p, x):\n",
    "    return np.polyval(p, x)\n",
    "\n",
    "# STEP 2 - define your cost function\n",
    "def my_costfun(p, x, y):\n",
    "    return np.sum((my_model(p, x) - y)**2)\n",
    "\n",
    "# STEP 3 - minimize cost function\n",
    "from scipy.optimize import minimize\n",
    "result = minimize(my_costfun, np.array([2., 3., 5.]), args=(x,y) )"
   ]
  },
  {
   "cell_type": "code",
   "execution_count": 3,
   "metadata": {
    "collapsed": false
   },
   "outputs": [
    {
     "name": "stdout",
     "output_type": "stream",
     "text": [
      "      fun: 126.0244494460525\n",
      " hess_inv: array([[  2.02383493e-05,   4.77774924e-05,  -2.59571115e-04],\n",
      "       [  4.77774924e-05,   3.19604362e-04,  -2.88164085e-04],\n",
      "       [ -2.59571115e-04,  -2.88164085e-04,   7.70768871e-03]])\n",
      "      jac: array([  9.53674316e-06,   5.72204590e-06,   0.00000000e+00])\n",
      "  message: 'Optimization terminated successfully.'\n",
      "     nfev: 70\n",
      "      nit: 7\n",
      "     njev: 14\n",
      "   status: 0\n",
      "  success: True\n",
      "        x: array([ 3.22413722,  5.69072788,  9.08476247])\n"
     ]
    }
   ],
   "source": [
    "print result"
   ]
  },
  {
   "cell_type": "code",
   "execution_count": 4,
   "metadata": {
    "collapsed": false
   },
   "outputs": [
    {
     "name": "stdout",
     "output_type": "stream",
     "text": [
      "RESULT:\n",
      "      fun: 126.0244494460525\n",
      " hess_inv: array([[  2.02383493e-05,   4.77774924e-05,  -2.59571115e-04],\n",
      "       [  4.77774924e-05,   3.19604362e-04,  -2.88164085e-04],\n",
      "       [ -2.59571115e-04,  -2.88164085e-04,   7.70768871e-03]])\n",
      "      jac: array([  9.53674316e-06,   5.72204590e-06,   0.00000000e+00])\n",
      "  message: 'Optimization terminated successfully.'\n",
      "     nfev: 70\n",
      "      nit: 7\n",
      "     njev: 14\n",
      "   status: 0\n",
      "  success: True\n",
      "        x: array([ 3.22413722,  5.69072788,  9.08476247])\n",
      "\n",
      "RELATIVE ERROR:\n",
      "[ 0.75428809  1.62014064 -1.25258181] %\n",
      "\n",
      "Hessian ERROR:\n",
      "[ 0.00449871  0.01787748  0.08779344]\n"
     ]
    }
   ],
   "source": [
    "print 'RESULT:\\n', result\n",
    "print ''\n",
    "print 'RELATIVE ERROR:\\n', (result.x - p)/p*100., '%'\n",
    "print ''\n",
    "print 'Hessian ERROR:' #err = sqrt(diag(inv(Hessian)))\n",
    "hess_err = np.sqrt(np.diag(result['hess_inv']))\n",
    "print hess_err"
   ]
  },
  {
   "cell_type": "code",
   "execution_count": null,
   "metadata": {
    "collapsed": true
   },
   "outputs": [],
   "source": []
  },
  {
   "cell_type": "markdown",
   "metadata": {},
   "source": [
    "# MCMC (emcee)\n",
    "- MCMC is a convenient tool for drawing a sample from a given probability distribution.\n",
    "- Therefore, is mostly used to estimate parameters in Bayesian way.\n",
    "- emcee: [http://dan.iel.fm/emcee/current/#](http://dan.iel.fm/emcee/current/#)"
   ]
  },
  {
   "cell_type": "code",
   "execution_count": 5,
   "metadata": {
    "collapsed": true
   },
   "outputs": [],
   "source": [
    "from emcee import EnsembleSampler"
   ]
  },
  {
   "cell_type": "markdown",
   "metadata": {},
   "source": [
    "## a simple example - draw sample from uniformly distribution"
   ]
  },
  {
   "cell_type": "code",
   "execution_count": 6,
   "metadata": {
    "collapsed": true
   },
   "outputs": [],
   "source": [
    "def lnprob(theta):\n",
    "    theta = np.array(theta)\n",
    "    if np.all(theta>-3.) and np.all(theta<3.):\n",
    "        return 0\n",
    "    return -np.inf"
   ]
  },
  {
   "cell_type": "code",
   "execution_count": 7,
   "metadata": {
    "collapsed": false
   },
   "outputs": [],
   "source": [
    "nwalkers = 10\n",
    "ndim = 3\n",
    "p0 = [np.random.rand(ndim) for i in range(nwalkers)]\n",
    "sampler = EnsembleSampler(nwalkers, ndim, lnprob)\n",
    "pos = sampler.run_mcmc(p0, 2000)"
   ]
  },
  {
   "cell_type": "code",
   "execution_count": null,
   "metadata": {
    "collapsed": false
   },
   "outputs": [
    {
     "data": {
      "text/plain": [
       "array([[ 1.        ,  0.05307972],\n",
       "       [ 0.05307972,  1.        ]])"
      ]
     },
     "execution_count": 8,
     "metadata": {},
     "output_type": "execute_result"
    }
   ],
   "source": [
    "np.corrcoef(sampler.flatchain[0:2000, 0], sampler.flatchain[2000:4000, 0])"
   ]
  },
  {
   "cell_type": "code",
   "execution_count": null,
   "metadata": {
    "collapsed": false
   },
   "outputs": [],
   "source": [
    "fig = plt.figure(figsize=(12,10))\n",
    "ax = fig.add_subplot(311)\n",
    "ax.plot(sampler.chain[:,:,0].T, '-', color='k', alpha=0.3)\n",
    "ax = fig.add_subplot(312)\n",
    "ax.plot(sampler.chain[:,:,1].T, '-', color='k', alpha=0.3)\n",
    "ax = fig.add_subplot(313)\n",
    "ax.plot(sampler.chain[:,:,2].T, '-', color='k', alpha=0.3);"
   ]
  },
  {
   "cell_type": "code",
   "execution_count": null,
   "metadata": {
    "collapsed": false
   },
   "outputs": [],
   "source": [
    "import corner\n",
    "fig = corner.corner(sampler.flatchain, labels=[\"p0\", \"p1\", \"p2\"],\n",
    "                    truths=[0., 0., 0.])\n",
    "# fig.savefig(\"triangle.png\")"
   ]
  },
  {
   "cell_type": "markdown",
   "metadata": {},
   "source": [
    "## how about Gaussian distribution?\n",
    "* 1-D Gauassian\n",
    "\n",
    "    $p(x|\\mu, \\sigma) \\propto \n",
    "    \\exp{(-\\frac{(x-\\mu)^2}{2\\sigma^2})}$\n",
    "\n",
    "\n",
    "* N-D Gauassian\n",
    "\n",
    "    $p(\\overrightarrow{x}|\\overrightarrow{\\mu}, \\Sigma) \\propto \\exp{(-\\frac{1}{2}(\\overrightarrow{x}-\\overrightarrow{\\mu})^T\\Sigma (\\overrightarrow{x}-\\overrightarrow{\\mu}))}$\n",
    "          \n",
    "    where $\\Sigma$ is the covariance matrix"
   ]
  },
  {
   "cell_type": "code",
   "execution_count": null,
   "metadata": {
    "collapsed": false
   },
   "outputs": [],
   "source": [
    "def lnprob(x, mu, ivar):\n",
    "#     if np.all(np.abs(x)<100.):\n",
    "    x = x.reshape(-1, 1)\n",
    "    mu = mu.reshape(-1, 1)\n",
    "    return -np.dot(np.dot((x-mu).T, ivar), x-mu)\n",
    "#     else:\n",
    "#         return -np.inf"
   ]
  },
  {
   "cell_type": "code",
   "execution_count": null,
   "metadata": {
    "collapsed": false
   },
   "outputs": [],
   "source": [
    "mu = np.array([0.1, 0.2, 0.5])\n",
    "cov = np.array([[1.0, 0.0, 0.0],\n",
    "                [0.0, 10, 9],\n",
    "                [0.0, 9, 10]])\n",
    "ivar = np.linalg.inv(cov)\n",
    "print 'ivar: \\n', ivar\n",
    "print 'det(cov): \\n', np.linalg.det(cov)\n",
    "print 'det(ivar): \\n', np.linalg.det(ivar)"
   ]
  },
  {
   "cell_type": "code",
   "execution_count": null,
   "metadata": {
    "collapsed": false
   },
   "outputs": [],
   "source": [
    "nwalkers = 10\n",
    "ndim = 3\n",
    "p0 = [np.random.rand(ndim) for i in range(nwalkers)]\n",
    "sampler = EnsembleSampler(nwalkers, ndim, lnprob, args=(mu, ivar), threads=10)\n",
    "pos,prob,state = sampler.run_mcmc(p0, 2000)"
   ]
  },
  {
   "cell_type": "code",
   "execution_count": null,
   "metadata": {
    "collapsed": false
   },
   "outputs": [],
   "source": [
    "p0"
   ]
  },
  {
   "cell_type": "code",
   "execution_count": null,
   "metadata": {
    "collapsed": false
   },
   "outputs": [],
   "source": [
    "fig = plt.figure(figsize=(12,10))\n",
    "ax = fig.add_subplot(311)\n",
    "ax.plot(sampler.chain[:,:,0].T, '-', color='k', alpha=0.3)\n",
    "ax = fig.add_subplot(312)\n",
    "ax.plot(sampler.chain[:,:,1].T, '-', color='k', alpha=0.3)\n",
    "ax = fig.add_subplot(313)\n",
    "ax.plot(sampler.chain[:,:,2].T, '-', color='k', alpha=0.3);"
   ]
  },
  {
   "cell_type": "code",
   "execution_count": null,
   "metadata": {
    "collapsed": false
   },
   "outputs": [],
   "source": [
    "fig = corner.corner(sampler.flatchain, labels=[\"mu1\", \"mu2\", \"mu3\"],\n",
    "                    truths=mu)"
   ]
  },
  {
   "cell_type": "code",
   "execution_count": null,
   "metadata": {
    "collapsed": false
   },
   "outputs": [],
   "source": [
    "print mu\n",
    "print ivar"
   ]
  },
  {
   "cell_type": "code",
   "execution_count": null,
   "metadata": {
    "collapsed": true
   },
   "outputs": [],
   "source": []
  },
  {
   "cell_type": "markdown",
   "metadata": {},
   "source": [
    "## how to use MCMC to estimate model parameters?"
   ]
  },
  {
   "cell_type": "markdown",
   "metadata": {},
   "source": [
    "suppose you choose a Gaussian likelihood:\n",
    "\n",
    "$L(\\theta|x_i,model) \\propto \\exp{(-\\frac{(x_i-x_{i, model})^2}{2\\sigma^2})} $\n",
    "\n",
    "$ \\log{(L(\\theta|x_i,model))} \\propto -\\frac{(x_i-x_{i, model})^2}{2\\sigma^2} = -\\frac{1}{2}{\\chi^2}$\n"
   ]
  },
  {
   "cell_type": "code",
   "execution_count": null,
   "metadata": {
    "collapsed": true
   },
   "outputs": [],
   "source": [
    "def lnprior(theta):\n",
    "    if np.all(np.abs(theta)<10000.):\n",
    "        return 0\n",
    "    else:\n",
    "        return -np.inf"
   ]
  },
  {
   "cell_type": "code",
   "execution_count": null,
   "metadata": {
    "collapsed": true
   },
   "outputs": [],
   "source": [
    "def lnlike(theta, x, y):\n",
    "    y_model = np.polyval(theta, x)\n",
    "    return -np.sum((y_model-y)**2)"
   ]
  },
  {
   "cell_type": "code",
   "execution_count": null,
   "metadata": {
    "collapsed": false
   },
   "outputs": [],
   "source": [
    "def lnprob(theta, x, y):\n",
    "    return lnprior(theta)+lnlike(theta, x, y)"
   ]
  },
  {
   "cell_type": "code",
   "execution_count": null,
   "metadata": {
    "collapsed": false
   },
   "outputs": [],
   "source": [
    "nwalkers = 10\n",
    "ndim = 3\n",
    "p0 = [np.random.rand(ndim) for i in range(nwalkers)]\n",
    "sampler = EnsembleSampler(nwalkers, ndim, lnprob, args=(x, y), threads=10)\n",
    "pos,prob,state = sampler.run_mcmc(p0, 500)"
   ]
  },
  {
   "cell_type": "code",
   "execution_count": null,
   "metadata": {
    "collapsed": false
   },
   "outputs": [],
   "source": [
    "np.corrcoef(sampler.flatchain[0:500, 0], sampler.flatchain[500:1000, 0])"
   ]
  },
  {
   "cell_type": "code",
   "execution_count": null,
   "metadata": {
    "collapsed": false,
    "scrolled": false
   },
   "outputs": [],
   "source": [
    "fig = plt.figure(figsize=(12,10))\n",
    "ax = fig.add_subplot(311)\n",
    "ax.plot(sampler.chain[:,:,0].T, '-', color='k', alpha=0.3)\n",
    "ax = fig.add_subplot(312)\n",
    "ax.plot(sampler.chain[:,:,1].T, '-', color='k', alpha=0.3)\n",
    "ax = fig.add_subplot(313)\n",
    "ax.plot(sampler.chain[:,:,2].T, '-', color='k', alpha=0.3);"
   ]
  },
  {
   "cell_type": "code",
   "execution_count": null,
   "metadata": {
    "collapsed": false
   },
   "outputs": [],
   "source": [
    "fig = corner.corner(sampler.flatchain, labels=[\"p0\", \"p1\", \"p2\"],\n",
    "                    truths=p)"
   ]
  },
  {
   "cell_type": "code",
   "execution_count": null,
   "metadata": {
    "collapsed": true
   },
   "outputs": [],
   "source": []
  },
  {
   "cell_type": "code",
   "execution_count": null,
   "metadata": {
    "collapsed": false
   },
   "outputs": [],
   "source": [
    "sampler.reset()\n",
    "pos,prob,state = sampler.run_mcmc(pos, 2000)"
   ]
  },
  {
   "cell_type": "code",
   "execution_count": null,
   "metadata": {
    "collapsed": false
   },
   "outputs": [],
   "source": [
    "np.corrcoef(sampler.flatchain[0:2000, 0], sampler.flatchain[4000:6000, 0])"
   ]
  },
  {
   "cell_type": "code",
   "execution_count": null,
   "metadata": {
    "collapsed": false,
    "scrolled": false
   },
   "outputs": [],
   "source": [
    "fig = plt.figure(figsize=(12,10))\n",
    "ax = fig.add_subplot(311)\n",
    "ax.plot(sampler.chain[:,:,0].T, '-', color='k', alpha=0.3)\n",
    "ax = fig.add_subplot(312)\n",
    "ax.plot(sampler.chain[:,:,1].T, '-', color='k', alpha=0.3)\n",
    "ax = fig.add_subplot(313)\n",
    "ax.plot(sampler.chain[:,:,2].T, '-', color='k', alpha=0.3);"
   ]
  },
  {
   "cell_type": "code",
   "execution_count": null,
   "metadata": {
    "collapsed": false
   },
   "outputs": [],
   "source": [
    "fig = corner.corner(sampler.flatchain, labels=[\"p0\", \"p1\", \"p2\"],\n",
    "                    truths=p)\n",
    "fig = corner.corner(sampler.flatchain, labels=[\"p0\", \"p1\", \"p2\"],\n",
    "                    truths=result.x)"
   ]
  },
  {
   "cell_type": "markdown",
   "metadata": {},
   "source": [
    "## comparison with the results from optimization"
   ]
  },
  {
   "cell_type": "code",
   "execution_count": null,
   "metadata": {
    "collapsed": false
   },
   "outputs": [],
   "source": [
    "# truth\n",
    "p"
   ]
  },
  {
   "cell_type": "code",
   "execution_count": null,
   "metadata": {
    "collapsed": false
   },
   "outputs": [],
   "source": [
    "# MCMC results\n",
    "np.percentile(sampler.flatchain, [15., 50., 85.], axis=0)"
   ]
  },
  {
   "cell_type": "code",
   "execution_count": null,
   "metadata": {
    "collapsed": false
   },
   "outputs": [],
   "source": [
    "print result.x - hess_err\n",
    "print result.x\n",
    "print result.x + hess_err"
   ]
  },
  {
   "cell_type": "code",
   "execution_count": null,
   "metadata": {
    "collapsed": true
   },
   "outputs": [],
   "source": []
  }
 ],
 "metadata": {
  "kernelspec": {
   "display_name": "Python 2",
   "language": "python",
   "name": "python2"
  },
  "language_info": {
   "codemirror_mode": {
    "name": "ipython",
    "version": 2
   },
   "file_extension": ".py",
   "mimetype": "text/x-python",
   "name": "python",
   "nbconvert_exporter": "python",
   "pygments_lexer": "ipython2",
   "version": "2.7.12"
  }
 },
 "nbformat": 4,
 "nbformat_minor": 0
}
