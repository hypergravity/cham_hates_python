{
 "cells": [
  {
   "cell_type": "markdown",
   "metadata": {},
   "source": [
    "<img src=\"https://www.python.org/static/img/python-logo.png\">\n",
    "\n",
    "# Welcome to my lessons\n",
    "\n",
    "---\n",
    "\n",
    "**Bo Zhang** (NAOC, <mailto:bozhang@nao.cas.cn>) will have a few lessons on python.\n",
    "\n",
    "- These are **very useful knowledge, skills and code styles** when you use `python` to process astronomical data.\n",
    "- All materials can be found on [**my github page**](https://github.com/hypergravity/cham_teaches_python).\n",
    "- **jupyter notebook** (formerly named **ipython notebook**) is recommeded\n",
    "\n",
    "---\n",
    "These lectures are organized as below:\n",
    "1. install python\n",
    "2. basic syntax\n",
    "3. numerical computing\n",
    "4. scientific computing\n",
    "5. plotting\n",
    "6. astronomical data processing\n",
    "7. high performance computing\n",
    "8. version control\n"
   ]
  },
  {
   "cell_type": "markdown",
   "metadata": {},
   "source": [
    "# What is `python`?\n",
    "- Python is an **interpreted**, **object-oriented**, **high-level** programming language with **dynamic semantics**.\n",
    "- Its high-level built in data structures, combined with dynamic typing and dynamic binding, make it very attractive for Rapid Application Development, as well as for use as a scripting or glue language to connect existing components together. \n",
    "- Python's simple, easy to learn syntax emphasizes readability and therefore reduces the cost of program maintenance. \n",
    "- Python supports modules and packages, which encourages program modularity and code reuse.\n",
    "- The Python interpreter and the extensive standard library are available in source or binary form without charge for all major platforms, and can be freely distributed.\n",
    "\n",
    "***\n",
    "Often, programmers fall in love with Python because of the increased productivity it provides. Since there is **no compilation step**, the edit-test-debug cycle is incredibly fast. Debugging Python programs is easy: a bug or bad input will never cause a segmentation fault. Instead, when the interpreter discovers an error, it raises an **exception**. When the program doesn't catch the exception, the interpreter prints a stack trace. A source level debugger allows inspection of local and global variables, evaluation of arbitrary expressions, setting breakpoints, stepping through the code a line at a time, and so on. The debugger is written in Python itself, testifying to Python's introspective power. On the other hand, **often the quickest way to debug a program is to add a few print statements to the source: the fast edit-test-debug cycle makes this simple approach very effective**.\n",
    "\n",
    "*reference*: [https://www.python.org/doc/essays/blurb/](https://www.python.org/doc/essays/blurb/)\n",
    "\n",
    "*comparison with some other programming languages*: [https://www.python.org/doc/essays/comparisons/](https://www.python.org/doc/essays/comparisons/)"
   ]
  },
  {
   "cell_type": "markdown",
   "metadata": {},
   "source": [
    "# Benefits for astronomers\n",
    "1. easy-to-use/understand\n",
    "2. extensions\n",
    "3. astronomical packages\n",
    "4. high performance computing\n",
    "5. open source\n"
   ]
  },
  {
   "cell_type": "markdown",
   "metadata": {},
   "source": [
    "# Websites you'd better know\n",
    "- python.org: [https://www.python.org/](https://www.python.org/)\n",
    " - this is the official web page of `python`\n",
    " ![www.python.org](../stuff01/Screenshot from 2016-06-12 15:26:58.png)\n",
    "- pypi (**PY**thon **P**ackage **I**ndex): [https://pypi.python.org/pypi](https://pypi.python.org/pypi)\n",
    " - from here, you can download almost all `python` packages\n",
    " ![](../stuff01/Screenshot from 2016-06-12 15:16:33.png)"
   ]
  },
  {
   "cell_type": "markdown",
   "metadata": {},
   "source": [
    "# How to install python in Linux (Ubuntu)?\n",
    "\n",
    "1. install `python` via `$ sudo apt-get install python`\n",
    "2. install `pip` via [getpip.py](https://pip.pypa.io/en/stable/installing/)\n",
    "\n",
    "PS: `$ sudo apt-get install python-pip` is not recommended\n",
    "\n",
    "`pip` can install almost all `python` packages.\n",
    "So I recommend you use this to install all packages.\n",
    "An alternative is to use `easy_install`, a very similar tool.\n",
    "\n",
    "type `$ python` to enter the `python` shell\n",
    "![](../stuff01/Screenshot from 2016-06-12 15:37:21.png)\n"
   ]
  },
  {
   "cell_type": "code",
   "execution_count": 1,
   "metadata": {
    "collapsed": false
   },
   "outputs": [
    {
     "name": "stdout",
     "output_type": "stream",
     "text": [
      "Hello World\n"
     ]
    }
   ],
   "source": [
    "print \"Hello World\""
   ]
  },
  {
   "cell_type": "markdown",
   "metadata": {},
   "source": [
    "# Recommended IDEs\n",
    "\n",
    "- [spyder](https://github.com/spyder-ide/spyder) / [python(x,y)](http://python-xy.github.io/) / [anaconda](https://www.continuum.io/why-anaconda)\n",
    " - scientific computing\n",
    " - easy-to-use\n",
    " - ipython backend\n",
    " - profile\n",
    " - pdb\n",
    "![](../stuff01/Screenshot from 2016-06-12 15:56:43.png )\n",
    "\n",
    "- [jupyter console / qtconsole (ipython / ipython qtconsole)](https://ipython.org/)\n",
    " - shell-like\n",
    " - magic functions\n",
    "![](../stuff01/Screenshot from 2016-06-12 16:13:59.png)\n",
    "![](../stuff01/Screenshot from 2016-06-12 16:15:16.png)\n",
    "\n",
    "- [jupyter notebook (ipython notebook)](http://jupyter.org/)\n",
    " - magic functions\n",
    " - markdown\n",
    " - various format (html, pdf, ...)\n",
    "![](../stuff01/Screenshot from 2016-06-12 16:24:08.png)\n",
    "\n",
    "- [JetBrain (Pycharm)](https://www.jetbrains.com/)\n",
    " - code folding\n",
    " - version control\n",
    " - module test\n",
    " - code reformat\n",
    "![](../stuff01/Screenshot from 2016-06-12 16:26:01.png)"
   ]
  },
  {
   "cell_type": "code",
   "execution_count": 2,
   "metadata": {
    "collapsed": true
   },
   "outputs": [],
   "source": [
    "%magic"
   ]
  },
  {
   "cell_type": "code",
   "execution_count": 3,
   "metadata": {
    "collapsed": false
   },
   "outputs": [
    {
     "name": "stdout",
     "output_type": "stream",
     "text": [
      ".\n",
      "..\n",
      "cham_hates_python_01_install_python.html\n",
      "cham_hates_python_01_install_python.ipynb\n",
      "cham_hates_python_01_install_python.slides.html\n",
      "cham_hates_python_02_basic_syntax.html\n",
      "cham_hates_python_02_basic_syntax.ipynb\n",
      "cham_hates_python_02_basic_syntax.slides.html\n",
      "cham_hates_python_03_numerical_computing.html\n",
      "cham_hates_python_03_numerical_computing.ipynb\n",
      "cham_hates_python_03_numerical_computing.slides.html\n",
      "cham_hates_python_04_scientific_computing_optimization.html\n",
      "cham_hates_python_04_scientific_computing_optimization.ipynb\n",
      "cham_hates_python_04_scientific_computing_optimization.slides.html\n",
      "cham_hates_python_05_plotting.html\n",
      "cham_hates_python_05_plotting.ipynb\n",
      "cham_hates_python_05_plotting.slides.html\n",
      "cham_hates_python_06_astronomical_data.html\n",
      "cham_hates_python_06_astronomical_data.ipynb\n",
      "cham_hates_python_06_astronomical_data.slides.html\n",
      "cham_hates_python_07_high_performance_computing.html\n",
      "cham_hates_python_07_high_performance_computing.ipynb\n",
      "cham_hates_python_07_high_performance_computing.slides.html\n",
      "cham_hates_python_08_version_control.html\n",
      "cham_hates_python_08_version_control.ipynb\n",
      "cham_hates_python_08_version_control.slides.html\n",
      ".ipynb_checkpoints\n"
     ]
    }
   ],
   "source": [
    "%%bash\n",
    "ls -a"
   ]
  },
  {
   "cell_type": "code",
   "execution_count": null,
   "metadata": {
    "collapsed": true
   },
   "outputs": [],
   "source": []
  },
  {
   "cell_type": "markdown",
   "metadata": {
    "collapsed": true
   },
   "source": [
    "# HOMEWORK\n",
    "1. try to install python & numpy using `pip`\n",
    "2. try at least two of the (recommended) python IDEs\n",
    "3. try at least two of the magic function in jupyter/ipython"
   ]
  },
  {
   "cell_type": "code",
   "execution_count": 4,
   "metadata": {
    "collapsed": false
   },
   "outputs": [
    {
     "data": {
      "text/html": [
       "<style>\n",
       "    @font-face {\n",
       "        font-family: \"Computer Modern\";\n",
       "        src: url('http://9dbb143991406a7c655e-aa5fcb0a5a4ec34cff238a2d56ca4144.r56.cf5.rackcdn.com/cmunss.otf');\n",
       "    }\n",
       "    @font-face {\n",
       "        font-family: \"Computer Modern\";\n",
       "        font-weight: bold;\n",
       "        src: url('http://9dbb143991406a7c655e-aa5fcb0a5a4ec34cff238a2d56ca4144.r56.cf5.rackcdn.com/cmunsx.otf');\n",
       "    }\n",
       "    @font-face {\n",
       "        font-family: \"Computer Modern\";\n",
       "        font-style: oblique;\n",
       "        src: url('http://9dbb143991406a7c655e-aa5fcb0a5a4ec34cff238a2d56ca4144.r56.cf5.rackcdn.com/cmunsi.otf');\n",
       "    }\n",
       "    @font-face {\n",
       "        font-family: \"Computer Modern\";\n",
       "        font-weight: bold;\n",
       "        font-style: oblique;\n",
       "        src: url('http://9dbb143991406a7c655e-aa5fcb0a5a4ec34cff238a2d56ca4144.r56.cf5.rackcdn.com/cmunso.otf');\n",
       "    }\n",
       "    div.cell{\n",
       "        width:1000px;\n",
       "        margin-left:5% !important;\n",
       "        margin-right:auto;\n",
       "    }\n",
       "    h1 {\n",
       "        font-family: Helvetica, serif;\n",
       "    }\n",
       "    h4{\n",
       "        margin-top:12px;\n",
       "        margin-bottom: 3px;\n",
       "       }\n",
       "    div.text_cell_render{\n",
       "        font-family: Computer Modern, \"Helvetica Neue\", Arial, Helvetica, Geneva, sans-serif;\n",
       "        line-height: 145%;\n",
       "        font-size: 120%;\n",
       "        width:900px;\n",
       "        margin-left:auto;\n",
       "        margin-right:auto;\n",
       "    }\n",
       "    .CodeMirror{\n",
       "            font-family: \"Source Code Pro\", source-code-pro,Consolas, monospace;\n",
       "    }\n",
       "    .text_cell_render h5 {\n",
       "        font-weight: 300;\n",
       "        font-size: 22pt;\n",
       "        color: #4057A1;\n",
       "        font-style: italic;\n",
       "        margin-bottom: .5em;\n",
       "        margin-top: 0.5em;\n",
       "        display: block;\n",
       "    }\n",
       "    \n",
       "    .warning{\n",
       "        color: rgb( 240, 20, 20 )\n",
       "        }  \n",
       "</style>\n",
       "<script>\n",
       "    MathJax.Hub.Config({\n",
       "                        TeX: {\n",
       "                           extensions: [\"AMSmath.js\"]\n",
       "                           },\n",
       "                tex2jax: {\n",
       "                    inlineMath: [ ['$','$'], [\"\\\\(\",\"\\\\)\"] ],\n",
       "                    displayMath: [ ['$$','$$'], [\"\\\\[\",\"\\\\]\"] ]\n",
       "                },\n",
       "                displayAlign: 'center', // Change this to 'center' to center equations.\n",
       "                \"HTML-CSS\": {\n",
       "                    styles: {'.MathJax_Display': {\"margin\": 4}}\n",
       "                }\n",
       "        });\n",
       "</script>\n"
      ],
      "text/plain": [
       "<IPython.core.display.HTML object>"
      ]
     },
     "execution_count": 4,
     "metadata": {},
     "output_type": "execute_result"
    }
   ],
   "source": [
    "from IPython.core.display import HTML\n",
    "\n",
    "def css_styling():\n",
    "    styles = open(\"../styles/custom_ppbmh_modified.css\", \"r\").read()\n",
    "    return HTML(styles)\n",
    "css_styling()"
   ]
  },
  {
   "cell_type": "code",
   "execution_count": null,
   "metadata": {
    "collapsed": true
   },
   "outputs": [],
   "source": []
  }
 ],
 "metadata": {
  "kernelspec": {
   "display_name": "Python 2",
   "language": "python",
   "name": "python2"
  },
  "language_info": {
   "codemirror_mode": {
    "name": "ipython",
    "version": 2
   },
   "file_extension": ".py",
   "mimetype": "text/x-python",
   "name": "python",
   "nbconvert_exporter": "python",
   "pygments_lexer": "ipython2",
   "version": "2.7.12"
  }
 },
 "nbformat": 4,
 "nbformat_minor": 0
}
