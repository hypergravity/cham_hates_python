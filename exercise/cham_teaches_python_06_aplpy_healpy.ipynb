{
 "cells": [
  {
   "cell_type": "markdown",
   "metadata": {},
   "source": [
    "<img src=\"https://www.python.org/static/img/python-logo.png\">\n",
    "\n",
    "# Welcome to my lessons\n",
    "\n",
    "---\n",
    "\n",
    "**Bo Zhang** (NAOC, <mailto:bozhang@nao.cas.cn>) will have a few lessons on python.\n",
    "\n",
    "- These are **very useful knowledge, skills and code styles** when you use `python` to process astronomical data.\n",
    "- All materials can be found on [**my github page**](https://github.com/hypergravity/cham_teaches_python).\n",
    "- **jupyter notebook** (formerly named **ipython notebook**) is recommeded to use\n",
    "\n",
    "---\n",
    "These lectures are organized as below:\n",
    "1. install python\n",
    "2. basic syntax\n",
    "3. numerical computing\n",
    "4. scientific computing\n",
    "5. plotting\n",
    "6. astronomical data processing\n",
    "7. high performance computing\n",
    "8. version control\n"
   ]
  },
  {
   "cell_type": "markdown",
   "metadata": {},
   "source": [
    "# APLpy basics\n",
    "\n",
    "[aplpyreaddocs](http://aplpy.readthedocs.io/en/stable/#)\n",
    "\n",
    "### - Introduction\n",
    "\n",
    "  **APLpy : Astronomical Plotting Library in Python.**\n",
    "\n",
    "  For convenient fits image or cubes plotting with astronomical coordinates\n",
    "\n",
    "### - Dependencies\n",
    "\n",
    "  APLpy is based on **matplotlib**, so any matplotlib originated functions/classes can be    easily adopted.\n",
    "\n",
    "  For image reprojection or mosaicing purpose, APLpy relies on **Montage**, which is developed by IPAC team. To enable functions like making RGB cube, one should first install Montage package.\n",
    "\n",
    "[Montage package docs](http://montage.ipac.caltech.edu/docs/)\n",
    "\n",
    "### - Tips\n",
    "\n",
    "  For plotting plenty of similar images, one could define a function to set up a set of standard properties (*i.e. def standard_setup( )*), such as axis and tick labels and use this user-defined function instead of the calling the APLpy functions time to time.\n",
    "\n",
    "  Of course, a different setting by directly calling APLpy functions will overide the settings after calling the user-defined standard setup function.\n"
   ]
  },
  {
   "cell_type": "code",
   "execution_count": 1,
   "metadata": {
    "collapsed": false
   },
   "outputs": [
    {
     "name": "stdout",
     "output_type": "stream",
     "text": [
      "Populating the interactive namespace from numpy and matplotlib\n"
     ]
    }
   ],
   "source": [
    "# import matplotlib.pyplot as plt\n",
    "# import numpy as np\n",
    "%pylab inline"
   ]
  },
  {
   "cell_type": "code",
   "execution_count": 2,
   "metadata": {
    "collapsed": false
   },
   "outputs": [
    {
     "name": "stderr",
     "output_type": "stream",
     "text": [
      "INFO:astropy:Deleting work directory /tmp/tmp4VisvR\n"
     ]
    },
    {
     "name": "stdout",
     "output_type": "stream",
     "text": [
      "INFO: Deleting work directory /tmp/tmp4VisvR [montage_wrapper.wrappers]\n",
      "INFO"
     ]
    },
    {
     "name": "stderr",
     "output_type": "stream",
     "text": [
      "INFO:astropy:Deleting work directory /tmp/tmpt09YEd\n"
     ]
    },
    {
     "name": "stdout",
     "output_type": "stream",
     "text": [
      ": Deleting work directory /tmp/tmpt09YEd [montage_wrapper.wrappers]\n",
      "INFO"
     ]
    },
    {
     "name": "stderr",
     "output_type": "stream",
     "text": [
      "INFO:astropy:Deleting work directory /tmp/tmpzSLAIG\n"
     ]
    },
    {
     "name": "stdout",
     "output_type": "stream",
     "text": [
      ": Deleting work directory /tmp/tmpzSLAIG [montage_wrapper.wrappers]\n",
      "INFO"
     ]
    },
    {
     "name": "stderr",
     "output_type": "stream",
     "text": [
      "INFO:astropy:Red:\n"
     ]
    },
    {
     "name": "stdout",
     "output_type": "stream",
     "text": [
      ": Red: [aplpy.rgb]\n",
      "INFO"
     ]
    },
    {
     "name": "stderr",
     "output_type": "stream",
     "text": [
      "INFO:astropy:vmin =  1.175e+01 (auto)\n",
      "INFO:astropy:vmax =  2.671e+01 (auto)\n",
      "INFO:astropy:Green:\n"
     ]
    },
    {
     "name": "stdout",
     "output_type": "stream",
     "text": [
      ": vmin =  1.175e+01 (auto) [aplpy.rgb]\n",
      "INFO: vmax =  2.671e+01 (auto) [aplpy.rgb]\n",
      "INFO: Green: [aplpy.rgb]\n",
      "INFO"
     ]
    },
    {
     "name": "stderr",
     "output_type": "stream",
     "text": [
      "INFO:astropy:vmin =  7.930e+02 (auto)\n",
      "INFO:astropy:vmax =  8.299e+02 (auto)\n",
      "INFO:astropy:Blue:\n"
     ]
    },
    {
     "name": "stdout",
     "output_type": "stream",
     "text": [
      ": vmin =  7.930e+02 (auto) [aplpy.rgb]\n",
      "INFO: vmax =  8.299e+02 (auto) [aplpy.rgb]\n",
      "INFO: Blue: [aplpy.rgb]\n",
      "INFO"
     ]
    },
    {
     "name": "stderr",
     "output_type": "stream",
     "text": [
      "INFO:astropy:vmin =  2.530e+02 (auto)\n",
      "INFO:astropy:vmax =  2.548e+02 (auto)\n"
     ]
    },
    {
     "name": "stdout",
     "output_type": "stream",
     "text": [
      ": vmin =  2.530e+02 (auto) [aplpy.rgb]\n",
      "INFO: vmax =  2.548e+02 (auto) [aplpy.rgb]\n"
     ]
    },
    {
     "ename": "AttributeError",
     "evalue": "'WCS' object has no attribute 'naxis1'",
     "output_type": "error",
     "traceback": [
      "\u001b[1;31m---------------------------------------------------------------------------\u001b[0m",
      "\u001b[1;31mAttributeError\u001b[0m                            Traceback (most recent call last)",
      "\u001b[1;32m<ipython-input-2-f94e21cb7114>\u001b[0m in \u001b[0;36m<module>\u001b[1;34m()\u001b[0m\n\u001b[0;32m     48\u001b[0m                      \u001b[0mpmax_b\u001b[0m\u001b[1;33m=\u001b[0m\u001b[1;36m98\u001b[0m\u001b[1;33m,\u001b[0m\u001b[1;33m\u001b[0m\u001b[0m\n\u001b[0;32m     49\u001b[0m                      \u001b[0mstretch_b\u001b[0m\u001b[1;33m=\u001b[0m\u001b[1;34m'linear'\u001b[0m\u001b[1;33m,\u001b[0m\u001b[1;33m\u001b[0m\u001b[0m\n\u001b[1;32m---> 50\u001b[1;33m                      vmid_b=None)\n\u001b[0m\u001b[0;32m     51\u001b[0m \u001b[0mfits\u001b[0m\u001b[1;33m.\u001b[0m\u001b[0msetval\u001b[0m\u001b[1;33m(\u001b[0m\u001b[0moutpath\u001b[0m\u001b[1;33m+\u001b[0m\u001b[1;34mr'wise234_RGB.fits'\u001b[0m\u001b[1;33m,\u001b[0m\u001b[1;34m'CTYPE3'\u001b[0m\u001b[1;33m,\u001b[0m\u001b[0mvalue\u001b[0m\u001b[1;33m=\u001b[0m\u001b[1;34m'RGB'\u001b[0m\u001b[1;33m)\u001b[0m\u001b[1;33m\u001b[0m\u001b[0m\n\u001b[0;32m     52\u001b[0m \u001b[1;33m\u001b[0m\u001b[0m\n",
      "\u001b[1;32m/usr/local/lib/python2.7/dist-packages/aplpy/rgb.pyc\u001b[0m in \u001b[0;36mmake_rgb_image\u001b[1;34m(data, output, indices, vmin_r, vmax_r, pmin_r, pmax_r, stretch_r, vmid_r, exponent_r, vmin_g, vmax_g, pmin_g, pmax_g, stretch_g, vmid_g, exponent_g, vmin_b, vmax_b, pmin_b, pmax_b, stretch_b, vmid_b, exponent_b, make_nans_transparent, embed_avm_tags)\u001b[0m\n\u001b[0;32m    226\u001b[0m \u001b[1;33m\u001b[0m\u001b[0m\n\u001b[0;32m    227\u001b[0m         \u001b[1;32mif\u001b[0m \u001b[0moutput\u001b[0m\u001b[1;33m.\u001b[0m\u001b[0mlower\u001b[0m\u001b[1;33m(\u001b[0m\u001b[1;33m)\u001b[0m\u001b[1;33m.\u001b[0m\u001b[0mendswith\u001b[0m\u001b[1;33m(\u001b[0m\u001b[1;33m(\u001b[0m\u001b[1;34m'.jpg'\u001b[0m\u001b[1;33m,\u001b[0m \u001b[1;34m'.jpeg'\u001b[0m\u001b[1;33m,\u001b[0m \u001b[1;34m'.png'\u001b[0m\u001b[1;33m)\u001b[0m\u001b[1;33m)\u001b[0m\u001b[1;33m:\u001b[0m\u001b[1;33m\u001b[0m\u001b[0m\n\u001b[1;32m--> 228\u001b[1;33m             \u001b[0mavm\u001b[0m \u001b[1;33m=\u001b[0m \u001b[0mAVM\u001b[0m\u001b[1;33m.\u001b[0m\u001b[0mfrom_header\u001b[0m\u001b[1;33m(\u001b[0m\u001b[0mheader\u001b[0m\u001b[1;33m)\u001b[0m\u001b[1;33m\u001b[0m\u001b[0m\n\u001b[0m\u001b[0;32m    229\u001b[0m             \u001b[0mavm\u001b[0m\u001b[1;33m.\u001b[0m\u001b[0membed\u001b[0m\u001b[1;33m(\u001b[0m\u001b[0moutput\u001b[0m\u001b[1;33m,\u001b[0m \u001b[0moutput\u001b[0m\u001b[1;33m)\u001b[0m\u001b[1;33m\u001b[0m\u001b[0m\n\u001b[0;32m    230\u001b[0m         \u001b[1;32melse\u001b[0m\u001b[1;33m:\u001b[0m\u001b[1;33m\u001b[0m\u001b[0m\n",
      "\u001b[1;32m/usr/local/lib/python2.7/dist-packages/pyavm/avm.pyc\u001b[0m in \u001b[0;36mfrom_header\u001b[1;34m(cls, header, include_full_header)\u001b[0m\n\u001b[0;32m    518\u001b[0m \u001b[1;33m\u001b[0m\u001b[0m\n\u001b[0;32m    519\u001b[0m         \u001b[0mwcs\u001b[0m \u001b[1;33m=\u001b[0m \u001b[0mWCS\u001b[0m\u001b[1;33m(\u001b[0m\u001b[0mheader\u001b[0m\u001b[1;33m)\u001b[0m\u001b[1;33m\u001b[0m\u001b[0m\n\u001b[1;32m--> 520\u001b[1;33m         \u001b[0mself\u001b[0m \u001b[1;33m=\u001b[0m \u001b[0mcls\u001b[0m\u001b[1;33m.\u001b[0m\u001b[0mfrom_wcs\u001b[0m\u001b[1;33m(\u001b[0m\u001b[0mwcs\u001b[0m\u001b[1;33m)\u001b[0m\u001b[1;33m\u001b[0m\u001b[0m\n\u001b[0m\u001b[0;32m    521\u001b[0m \u001b[1;33m\u001b[0m\u001b[0m\n\u001b[0;32m    522\u001b[0m         \u001b[1;32mif\u001b[0m \u001b[0minclude_full_header\u001b[0m\u001b[1;33m:\u001b[0m\u001b[1;33m\u001b[0m\u001b[0m\n",
      "\u001b[1;32m/usr/local/lib/python2.7/dist-packages/pyavm/avm.pyc\u001b[0m in \u001b[0;36mfrom_wcs\u001b[1;34m(cls, wcs)\u001b[0m\n\u001b[0;32m    549\u001b[0m             \u001b[1;32mraise\u001b[0m \u001b[0mException\u001b[0m\u001b[1;33m(\u001b[0m\u001b[1;34m\"Projections do not agree: %s / %s\"\u001b[0m \u001b[1;33m%\u001b[0m \u001b[1;33m(\u001b[0m\u001b[0mproj1\u001b[0m\u001b[1;33m,\u001b[0m \u001b[0mproj2\u001b[0m\u001b[1;33m)\u001b[0m\u001b[1;33m)\u001b[0m\u001b[1;33m\u001b[0m\u001b[0m\n\u001b[0;32m    550\u001b[0m \u001b[1;33m\u001b[0m\u001b[0m\n\u001b[1;32m--> 551\u001b[1;33m         \u001b[0mself\u001b[0m\u001b[1;33m.\u001b[0m\u001b[0mSpatial\u001b[0m\u001b[1;33m.\u001b[0m\u001b[0mReferenceDimension\u001b[0m \u001b[1;33m=\u001b[0m \u001b[1;33m[\u001b[0m\u001b[0mwcs\u001b[0m\u001b[1;33m.\u001b[0m\u001b[0mnaxis1\u001b[0m\u001b[1;33m,\u001b[0m \u001b[0mwcs\u001b[0m\u001b[1;33m.\u001b[0m\u001b[0mnaxis2\u001b[0m\u001b[1;33m]\u001b[0m\u001b[1;33m\u001b[0m\u001b[0m\n\u001b[0m\u001b[0;32m    552\u001b[0m         \u001b[0mself\u001b[0m\u001b[1;33m.\u001b[0m\u001b[0mSpatial\u001b[0m\u001b[1;33m.\u001b[0m\u001b[0mReferenceValue\u001b[0m \u001b[1;33m=\u001b[0m \u001b[0mwcs\u001b[0m\u001b[1;33m.\u001b[0m\u001b[0mwcs\u001b[0m\u001b[1;33m.\u001b[0m\u001b[0mcrval\u001b[0m\u001b[1;33m.\u001b[0m\u001b[0mtolist\u001b[0m\u001b[1;33m(\u001b[0m\u001b[1;33m)\u001b[0m\u001b[1;33m\u001b[0m\u001b[0m\n\u001b[0;32m    553\u001b[0m         \u001b[0mself\u001b[0m\u001b[1;33m.\u001b[0m\u001b[0mSpatial\u001b[0m\u001b[1;33m.\u001b[0m\u001b[0mReferencePixel\u001b[0m \u001b[1;33m=\u001b[0m \u001b[0mwcs\u001b[0m\u001b[1;33m.\u001b[0m\u001b[0mwcs\u001b[0m\u001b[1;33m.\u001b[0m\u001b[0mcrpix\u001b[0m\u001b[1;33m.\u001b[0m\u001b[0mtolist\u001b[0m\u001b[1;33m(\u001b[0m\u001b[1;33m)\u001b[0m\u001b[1;33m\u001b[0m\u001b[0m\n",
      "\u001b[1;31mAttributeError\u001b[0m: 'WCS' object has no attribute 'naxis1'"
     ]
    }
   ],
   "source": [
    "import aplpy\n",
    "from astropy.io import fits\n",
    "import numpy as np\n",
    "import matplotlib.pyplot as plt\n",
    "\n",
    "def standard_setup(fig):\n",
    "    fig.show_colorscale(cmap='gist_gray')\n",
    "    fig.tick_labels.set_font(size='large')\n",
    "    fig.frame.set_linewidth(1)\n",
    "    fig.frame.set_color('black')\n",
    "    fig.add_colorbar()\n",
    "    fig.colorbar.show()\n",
    "    fig.colorbar.set_location('top')\n",
    "    fig.colorbar.set_font(size='medium', weight='medium', \\\n",
    "                          stretch='normal', family='sans-serif', \\\n",
    "                          style='normal', variant='normal')\n",
    "    fig.list_layers()\n",
    "    #fig.axis_labels.hide_y()\n",
    "    #fig.tick_labels.hide_y()\n",
    "    #fig.axis_labels.hide_x()\n",
    "    #fig.tick_labels.hide_x()\n",
    "  \n",
    "\n",
    "\n",
    "dirpath = r'./data/wise_image/'\n",
    "outpath = r'./data/wise_image/'\n",
    "\n",
    "filepath1= dirpath+r'w4_cut.fits'\n",
    "filepath2= dirpath+r'w3_cut.fits'\n",
    "filepath3= dirpath+r'w2_cut.fits'\n",
    "\n",
    "aplpy.make_rgb_cube([filepath3,filepath2,filepath1], outpath+r'wise234_RGB.fits')\n",
    "aplpy.make_rgb_image(outpath+r'wise234_RGB.fits',\n",
    "                     outpath+r'rgb_image_wise234.png',\n",
    "                     stretch_r='linear', \n",
    "                     vmid_r=None,\n",
    "                     pmin_r=10, \n",
    "                     pmax_r=98,\n",
    "                     exponent_r=2,\n",
    "                     vmin_g=None,\n",
    "                     vmax_g=None,\n",
    "                     pmin_g=10,\n",
    "                     pmax_g=98,\n",
    "                     stretch_g='linear',\n",
    "                     vmid_g=None,\n",
    "                     exponent_g=2,\n",
    "                     vmin_b=None,\n",
    "                     vmax_b=None,\n",
    "                     pmin_b=10,\n",
    "                     pmax_b=98,\n",
    "                     stretch_b='linear',\n",
    "                     vmid_b=None)\n",
    "fits.setval(outpath+r'wise234_RGB.fits','CTYPE3',value='RGB')\n",
    "\n",
    "\n",
    "# Launch APLpy figure of 2D cube\n",
    "img = aplpy.FITSFigure(outpath+r'wise234_RGB.fits',dimensions=[0,1],slices=[2],figsize=(10,9))\n",
    "standard_setup(img)\n",
    "img.recenter(084.78475,+30.09747,width=0.12,height=0.12)\n",
    "img.show_rgb(outpath+r'rgb_image_wise234.png')\n",
    "img.colorbar.hide()\n",
    "img.add_label(0.9,0.9, 'WISE 2/3/4\\nRGB', color='black', relative=True, size='large',layer='source') \n",
    "img.add_scalebar(0.05,\"1 pc\",color='white', corner='bottom left')\n",
    "#add 850 um continuum contour\n",
    "img.show_contour(r'./data/G178_final.850.fits',levels=np.linspace(0.08,0.23,5),colors='white')\n",
    "# img.save(outpath+r'rgb_W3_contour.pdf')\n",
    "plt.show()\n",
    "\n"
   ]
  },
  {
   "cell_type": "markdown",
   "metadata": {},
   "source": [
    "# Healpy \n",
    "\n",
    "[aplpyreaddocs](http://aplpy.readthedocs.io/en/stable/#)\n",
    "\n",
    "### - Introduction\n",
    "\n",
    "  To take care of fits files of Healpix pixelization schemes (http://healpix.sourceforge.net/downloads.php), including fitsfile io and transformation to standard coordinate systems. \n",
    "\n",
    "  This is particularly useful for all-sky survey such as Planck data, or SCUBA2 data release 1.\n",
    "\n",
    "### - "
   ]
  },
  {
   "cell_type": "code",
   "execution_count": 3,
   "metadata": {
    "collapsed": false
   },
   "outputs": [
    {
     "ename": "IOError",
     "evalue": "[Errno 2] No such file or directory: 'HFI_CompMap_CO-Type3_2048_R1.10.fits'",
     "output_type": "error",
     "traceback": [
      "\u001b[1;31m---------------------------------------------------------------------------\u001b[0m",
      "\u001b[1;31mIOError\u001b[0m                                   Traceback (most recent call last)",
      "\u001b[1;32m<ipython-input-3-9de64c481a11>\u001b[0m in \u001b[0;36m<module>\u001b[1;34m()\u001b[0m\n\u001b[0;32m      5\u001b[0m \u001b[1;33m\u001b[0m\u001b[0m\n\u001b[0;32m      6\u001b[0m \u001b[1;31m#read the fitsfile\u001b[0m\u001b[1;33m\u001b[0m\u001b[1;33m\u001b[0m\u001b[0m\n\u001b[1;32m----> 7\u001b[1;33m \u001b[0mplankCO\u001b[0m \u001b[1;33m=\u001b[0m \u001b[0mhp\u001b[0m\u001b[1;33m.\u001b[0m\u001b[0mread_map\u001b[0m\u001b[1;33m(\u001b[0m\u001b[1;34m'HFI_CompMap_CO-Type3_2048_R1.10.fits'\u001b[0m\u001b[1;33m)\u001b[0m\u001b[1;31m#standard planck survey data from online archive\u001b[0m\u001b[1;33m\u001b[0m\u001b[0m\n\u001b[0m\u001b[0;32m      8\u001b[0m \u001b[0mpixNum\u001b[0m \u001b[1;33m=\u001b[0m \u001b[1;36m8192\u001b[0m\u001b[1;33m\u001b[0m\u001b[0m\n\u001b[0;32m      9\u001b[0m \u001b[1;33m\u001b[0m\u001b[0m\n",
      "\u001b[1;32m/usr/local/lib/python2.7/dist-packages/healpy/fitsfunc.pyc\u001b[0m in \u001b[0;36mread_map\u001b[1;34m(filename, field, dtype, nest, hdu, h, verbose, memmap)\u001b[0m\n\u001b[0;32m    252\u001b[0m       \u001b[0mThe\u001b[0m \u001b[0mmap\u001b[0m\u001b[1;33m(\u001b[0m\u001b[0ms\u001b[0m\u001b[1;33m)\u001b[0m \u001b[0mread\u001b[0m \u001b[1;32mfrom\u001b[0m \u001b[0mthe\u001b[0m \u001b[0mfile\u001b[0m\u001b[1;33m,\u001b[0m \u001b[1;32mand\u001b[0m \u001b[0mthe\u001b[0m \u001b[0mheader\u001b[0m \u001b[1;32mif\u001b[0m \u001b[1;33m*\u001b[0m\u001b[0mh\u001b[0m\u001b[1;33m*\u001b[0m \u001b[1;32mis\u001b[0m \u001b[0mTrue\u001b[0m\u001b[1;33m.\u001b[0m\u001b[1;33m\u001b[0m\u001b[0m\n\u001b[0;32m    253\u001b[0m     \"\"\"\n\u001b[1;32m--> 254\u001b[1;33m     \u001b[0mhdulist\u001b[0m\u001b[1;33m=\u001b[0m\u001b[0mpf\u001b[0m\u001b[1;33m.\u001b[0m\u001b[0mopen\u001b[0m\u001b[1;33m(\u001b[0m\u001b[0mfilename\u001b[0m\u001b[1;33m,\u001b[0m \u001b[0mmemmap\u001b[0m\u001b[1;33m=\u001b[0m\u001b[0mmemmap\u001b[0m\u001b[1;33m)\u001b[0m\u001b[1;33m\u001b[0m\u001b[0m\n\u001b[0m\u001b[0;32m    255\u001b[0m     \u001b[1;31m#print hdulist[1].header\u001b[0m\u001b[1;33m\u001b[0m\u001b[1;33m\u001b[0m\u001b[0m\n\u001b[0;32m    256\u001b[0m     \u001b[0mnside\u001b[0m \u001b[1;33m=\u001b[0m \u001b[0mhdulist\u001b[0m\u001b[1;33m[\u001b[0m\u001b[0mhdu\u001b[0m\u001b[1;33m]\u001b[0m\u001b[1;33m.\u001b[0m\u001b[0mheader\u001b[0m\u001b[1;33m.\u001b[0m\u001b[0mget\u001b[0m\u001b[1;33m(\u001b[0m\u001b[1;34m'NSIDE'\u001b[0m\u001b[1;33m)\u001b[0m\u001b[1;33m\u001b[0m\u001b[0m\n",
      "\u001b[1;32m/usr/local/lib/python2.7/dist-packages/astropy/io/fits/hdu/hdulist.pyc\u001b[0m in \u001b[0;36mfitsopen\u001b[1;34m(name, mode, memmap, save_backup, cache, **kwargs)\u001b[0m\n\u001b[0;32m    136\u001b[0m         \u001b[1;32mraise\u001b[0m \u001b[0mValueError\u001b[0m\u001b[1;33m(\u001b[0m\u001b[1;34m'Empty filename: %s'\u001b[0m \u001b[1;33m%\u001b[0m \u001b[0mrepr\u001b[0m\u001b[1;33m(\u001b[0m\u001b[0mname\u001b[0m\u001b[1;33m)\u001b[0m\u001b[1;33m)\u001b[0m\u001b[1;33m\u001b[0m\u001b[0m\n\u001b[0;32m    137\u001b[0m \u001b[1;33m\u001b[0m\u001b[0m\n\u001b[1;32m--> 138\u001b[1;33m     \u001b[1;32mreturn\u001b[0m \u001b[0mHDUList\u001b[0m\u001b[1;33m.\u001b[0m\u001b[0mfromfile\u001b[0m\u001b[1;33m(\u001b[0m\u001b[0mname\u001b[0m\u001b[1;33m,\u001b[0m \u001b[0mmode\u001b[0m\u001b[1;33m,\u001b[0m \u001b[0mmemmap\u001b[0m\u001b[1;33m,\u001b[0m \u001b[0msave_backup\u001b[0m\u001b[1;33m,\u001b[0m \u001b[0mcache\u001b[0m\u001b[1;33m,\u001b[0m \u001b[1;33m**\u001b[0m\u001b[0mkwargs\u001b[0m\u001b[1;33m)\u001b[0m\u001b[1;33m\u001b[0m\u001b[0m\n\u001b[0m\u001b[0;32m    139\u001b[0m \u001b[1;33m\u001b[0m\u001b[0m\n\u001b[0;32m    140\u001b[0m \u001b[1;33m\u001b[0m\u001b[0m\n",
      "\u001b[1;32m/usr/local/lib/python2.7/dist-packages/astropy/io/fits/hdu/hdulist.pyc\u001b[0m in \u001b[0;36mfromfile\u001b[1;34m(cls, fileobj, mode, memmap, save_backup, cache, **kwargs)\u001b[0m\n\u001b[0;32m    278\u001b[0m \u001b[1;33m\u001b[0m\u001b[0m\n\u001b[0;32m    279\u001b[0m         return cls._readfrom(fileobj=fileobj, mode=mode, memmap=memmap,\n\u001b[1;32m--> 280\u001b[1;33m                              save_backup=save_backup, cache=cache, **kwargs)\n\u001b[0m\u001b[0;32m    281\u001b[0m \u001b[1;33m\u001b[0m\u001b[0m\n\u001b[0;32m    282\u001b[0m     \u001b[1;33m@\u001b[0m\u001b[0mclassmethod\u001b[0m\u001b[1;33m\u001b[0m\u001b[0m\n",
      "\u001b[1;32m/usr/local/lib/python2.7/dist-packages/astropy/io/fits/hdu/hdulist.pyc\u001b[0m in \u001b[0;36m_readfrom\u001b[1;34m(cls, fileobj, data, mode, memmap, save_backup, cache, **kwargs)\u001b[0m\n\u001b[0;32m    799\u001b[0m             \u001b[1;32mif\u001b[0m \u001b[1;32mnot\u001b[0m \u001b[0misinstance\u001b[0m\u001b[1;33m(\u001b[0m\u001b[0mfileobj\u001b[0m\u001b[1;33m,\u001b[0m \u001b[0m_File\u001b[0m\u001b[1;33m)\u001b[0m\u001b[1;33m:\u001b[0m\u001b[1;33m\u001b[0m\u001b[0m\n\u001b[0;32m    800\u001b[0m                 \u001b[1;31m# instantiate a FITS file object (ffo)\u001b[0m\u001b[1;33m\u001b[0m\u001b[1;33m\u001b[0m\u001b[0m\n\u001b[1;32m--> 801\u001b[1;33m                 \u001b[0mffo\u001b[0m \u001b[1;33m=\u001b[0m \u001b[0m_File\u001b[0m\u001b[1;33m(\u001b[0m\u001b[0mfileobj\u001b[0m\u001b[1;33m,\u001b[0m \u001b[0mmode\u001b[0m\u001b[1;33m=\u001b[0m\u001b[0mmode\u001b[0m\u001b[1;33m,\u001b[0m \u001b[0mmemmap\u001b[0m\u001b[1;33m=\u001b[0m\u001b[0mmemmap\u001b[0m\u001b[1;33m,\u001b[0m \u001b[0mcache\u001b[0m\u001b[1;33m=\u001b[0m\u001b[0mcache\u001b[0m\u001b[1;33m)\u001b[0m\u001b[1;33m\u001b[0m\u001b[0m\n\u001b[0m\u001b[0;32m    802\u001b[0m             \u001b[1;32melse\u001b[0m\u001b[1;33m:\u001b[0m\u001b[1;33m\u001b[0m\u001b[0m\n\u001b[0;32m    803\u001b[0m                 \u001b[0mffo\u001b[0m \u001b[1;33m=\u001b[0m \u001b[0mfileobj\u001b[0m\u001b[1;33m\u001b[0m\u001b[0m\n",
      "\u001b[1;32m/usr/local/lib/python2.7/dist-packages/astropy/io/fits/file.pyc\u001b[0m in \u001b[0;36m__init__\u001b[1;34m(self, fileobj, mode, memmap, clobber, cache)\u001b[0m\n\u001b[0;32m    139\u001b[0m             \u001b[0mself\u001b[0m\u001b[1;33m.\u001b[0m\u001b[0m_open_fileobj\u001b[0m\u001b[1;33m(\u001b[0m\u001b[0mfileobj\u001b[0m\u001b[1;33m,\u001b[0m \u001b[0mmode\u001b[0m\u001b[1;33m,\u001b[0m \u001b[0mclobber\u001b[0m\u001b[1;33m)\u001b[0m\u001b[1;33m\u001b[0m\u001b[0m\n\u001b[0;32m    140\u001b[0m         \u001b[1;32melif\u001b[0m \u001b[0misinstance\u001b[0m\u001b[1;33m(\u001b[0m\u001b[0mfileobj\u001b[0m\u001b[1;33m,\u001b[0m \u001b[0mstring_types\u001b[0m\u001b[1;33m)\u001b[0m\u001b[1;33m:\u001b[0m\u001b[1;33m\u001b[0m\u001b[0m\n\u001b[1;32m--> 141\u001b[1;33m             \u001b[0mself\u001b[0m\u001b[1;33m.\u001b[0m\u001b[0m_open_filename\u001b[0m\u001b[1;33m(\u001b[0m\u001b[0mfileobj\u001b[0m\u001b[1;33m,\u001b[0m \u001b[0mmode\u001b[0m\u001b[1;33m,\u001b[0m \u001b[0mclobber\u001b[0m\u001b[1;33m)\u001b[0m\u001b[1;33m\u001b[0m\u001b[0m\n\u001b[0m\u001b[0;32m    142\u001b[0m         \u001b[1;32melse\u001b[0m\u001b[1;33m:\u001b[0m\u001b[1;33m\u001b[0m\u001b[0m\n\u001b[0;32m    143\u001b[0m             \u001b[0mself\u001b[0m\u001b[1;33m.\u001b[0m\u001b[0m_open_filelike\u001b[0m\u001b[1;33m(\u001b[0m\u001b[0mfileobj\u001b[0m\u001b[1;33m,\u001b[0m \u001b[0mmode\u001b[0m\u001b[1;33m,\u001b[0m \u001b[0mclobber\u001b[0m\u001b[1;33m)\u001b[0m\u001b[1;33m\u001b[0m\u001b[0m\n",
      "\u001b[1;32m/usr/local/lib/python2.7/dist-packages/astropy/io/fits/file.pyc\u001b[0m in \u001b[0;36m_open_filename\u001b[1;34m(self, filename, mode, clobber)\u001b[0m\n\u001b[0;32m    491\u001b[0m             \u001b[0mself\u001b[0m\u001b[1;33m.\u001b[0m\u001b[0m_file\u001b[0m \u001b[1;33m=\u001b[0m \u001b[0mbz2\u001b[0m\u001b[1;33m.\u001b[0m\u001b[0mBZ2File\u001b[0m\u001b[1;33m(\u001b[0m\u001b[0mself\u001b[0m\u001b[1;33m.\u001b[0m\u001b[0mname\u001b[0m\u001b[1;33m,\u001b[0m \u001b[0mbzip2_mode\u001b[0m\u001b[1;33m)\u001b[0m\u001b[1;33m\u001b[0m\u001b[0m\n\u001b[0;32m    492\u001b[0m         \u001b[1;32melse\u001b[0m\u001b[1;33m:\u001b[0m\u001b[1;33m\u001b[0m\u001b[0m\n\u001b[1;32m--> 493\u001b[1;33m             \u001b[0mself\u001b[0m\u001b[1;33m.\u001b[0m\u001b[0m_file\u001b[0m \u001b[1;33m=\u001b[0m \u001b[0mfileobj_open\u001b[0m\u001b[1;33m(\u001b[0m\u001b[0mself\u001b[0m\u001b[1;33m.\u001b[0m\u001b[0mname\u001b[0m\u001b[1;33m,\u001b[0m \u001b[0mPYFITS_MODES\u001b[0m\u001b[1;33m[\u001b[0m\u001b[0mmode\u001b[0m\u001b[1;33m]\u001b[0m\u001b[1;33m)\u001b[0m\u001b[1;33m\u001b[0m\u001b[0m\n\u001b[0m\u001b[0;32m    494\u001b[0m \u001b[1;33m\u001b[0m\u001b[0m\n\u001b[0;32m    495\u001b[0m         \u001b[1;31m# Make certain we're back at the beginning of the file\u001b[0m\u001b[1;33m\u001b[0m\u001b[1;33m\u001b[0m\u001b[0m\n",
      "\u001b[1;32m/usr/local/lib/python2.7/dist-packages/astropy/io/fits/util.pyc\u001b[0m in \u001b[0;36mfileobj_open\u001b[1;34m(filename, mode)\u001b[0m\n\u001b[0;32m    413\u001b[0m         \"\"\"\n\u001b[0;32m    414\u001b[0m \u001b[1;33m\u001b[0m\u001b[0m\n\u001b[1;32m--> 415\u001b[1;33m         \u001b[1;32mreturn\u001b[0m \u001b[0mopen\u001b[0m\u001b[1;33m(\u001b[0m\u001b[0mfilename\u001b[0m\u001b[1;33m,\u001b[0m \u001b[0mmode\u001b[0m\u001b[1;33m)\u001b[0m\u001b[1;33m\u001b[0m\u001b[0m\n\u001b[0m\u001b[0;32m    416\u001b[0m \u001b[1;33m\u001b[0m\u001b[0m\n\u001b[0;32m    417\u001b[0m \u001b[1;33m\u001b[0m\u001b[0m\n",
      "\u001b[1;31mIOError\u001b[0m: [Errno 2] No such file or directory: 'HFI_CompMap_CO-Type3_2048_R1.10.fits'"
     ]
    }
   ],
   "source": [
    "import os\n",
    "import healpy as hp\n",
    "from astropy.io import fits\n",
    "import montage_wrapper as mt\n",
    "\n",
    "#read the fitsfile\n",
    "plankCO = hp.read_map('HFI_CompMap_CO-Type3_2048_R1.10.fits')#standard planck survey data from online archive\n",
    "pixNum = 8192\n",
    "\n",
    "#view the fitsfile in Cartesian projection\n",
    "imageData = hp.cartview(plankCO, title='Histogram equalized Ecliptic', \n",
    "     unit='K km/s', min=1,max=500, cmap = 'gist_heat_r', \n",
    "     norm = 'log', cbar= False, return_projected_map = True, \n",
    "     xsize = pixNum)\n",
    "\n",
    "#fits header editing\n",
    "hdu = fits.PrimaryHDU(imageData.data)\n",
    "hdu.header['CTYPE1']  = 'GLON-CAR'                                      \n",
    "hdu.header['CRVAL1']  =         0.0                           \n",
    "hdu.header['CDELT1']  =         -360.0/pixNum                        \n",
    "hdu.header['CRPIX1']  =               pixNum/2.0+0.5                           \n",
    "hdu.header['CTYPE2']  = 'GLAT-CAR'                                      \n",
    "hdu.header['CRVAL2']  =         0.0                          \n",
    "hdu.header['CDELT2']  =           360.0/pixNum                    \n",
    "hdu.header['CRPIX2']  =              pixNum/4.0+0.5\n",
    "hdu.header['BUNIT']   = 'K*km/s'\n",
    "hdu.header['TELESCOP'] = 'Planck'\n",
    "hdu.writeto('PlanckCO_Type3_car.fits', clobber= True)\n",
    "\n",
    "#target fitsheader editing\n",
    "hdrTAN = hdu.header.copy()\n",
    "hdrTAN['CTYPE1']  = 'GLON-TAN'\n",
    "hdrTAN['CTYPE2']  = 'GLAT-TAN'\n",
    "\n",
    "#fitsheader and file output\n",
    "#use mongtage as the reprojection engine, one could also implement other reprojection packages\n",
    "if os.path.isfile('TAN.hdr'):\n",
    "    os.remove('TAN.hdr')\n",
    "\n",
    "hdrTAN.totextfile('TAN.hdr')\n",
    "\n",
    "if os.path.isfile('PlanckCO_Type3_tan.fits'):\n",
    "    os.remove('PlanckCO_Type3_tan.fits')\n",
    "\n",
    "mt.reproject('PlanckCO_Type3_car.fits', \n",
    "    'PlanckCO_Type3_tan.fits', \n",
    "    header = 'TAN.hdr')"
   ]
  },
  {
   "cell_type": "code",
   "execution_count": null,
   "metadata": {
    "collapsed": true
   },
   "outputs": [],
   "source": []
  },
  {
   "cell_type": "code",
   "execution_count": null,
   "metadata": {
    "collapsed": true
   },
   "outputs": [],
   "source": []
  }
 ],
 "metadata": {
  "kernelspec": {
   "display_name": "Python 2",
   "language": "python",
   "name": "python2"
  },
  "language_info": {
   "codemirror_mode": {
    "name": "ipython",
    "version": 2
   },
   "file_extension": ".py",
   "mimetype": "text/x-python",
   "name": "python",
   "nbconvert_exporter": "python",
   "pygments_lexer": "ipython2",
   "version": "2.7.6"
  }
 },
 "nbformat": 4,
 "nbformat_minor": 0
}
