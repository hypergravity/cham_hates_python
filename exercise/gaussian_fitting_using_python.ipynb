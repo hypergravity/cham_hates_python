{
 "cells": [
  {
   "cell_type": "code",
   "execution_count": 1,
   "metadata": {
    "collapsed": false
   },
   "outputs": [
    {
     "name": "stdout",
     "output_type": "stream",
     "text": [
      "Populating the interactive namespace from numpy and matplotlib\n"
     ]
    }
   ],
   "source": [
    "%pylab inline"
   ]
  },
  {
   "cell_type": "code",
   "execution_count": 2,
   "metadata": {
    "collapsed": false
   },
   "outputs": [],
   "source": [
    "from astroML.stats import binned_statistic\n",
    "\n",
    "# generate data\n",
    "xdata = np.random.randn(1000)\n",
    "# set bins\n",
    "bins=np.arange(-5., 5., .5)\n",
    "# bin data\n",
    "n,bin_edges = binned_statistic(xdata,xdata,statistic='count',bins=bins)\n",
    "# convert bin_edge to bin_center\n",
    "xpos = bins[:-1]+0.25"
   ]
  },
  {
   "cell_type": "code",
   "execution_count": 3,
   "metadata": {
    "collapsed": false
   },
   "outputs": [
    {
     "data": {
      "text/plain": [
       "(array([-4.75, -4.25, -3.75, -3.25, -2.75, -2.25, -1.75, -1.25, -0.75,\n",
       "        -0.25,  0.25,  0.75,  1.25,  1.75,  2.25,  2.75,  3.25,  3.75,  4.25]),\n",
       " array([   0.,    0.,    1.,    1.,    5.,    9.,   45.,   85.,  136.,\n",
       "         193.,  193.,  170.,   96.,   44.,   15.,    6.,    1.,    0.,    0.]))"
      ]
     },
     "execution_count": 3,
     "metadata": {},
     "output_type": "execute_result"
    }
   ],
   "source": [
    "xpos, n"
   ]
  },
  {
   "cell_type": "markdown",
   "metadata": {},
   "source": [
    "# If you don't care about the confidence interval of parameter"
   ]
  },
  {
   "cell_type": "code",
   "execution_count": 5,
   "metadata": {
    "collapsed": false
   },
   "outputs": [
    {
     "name": "stdout",
     "output_type": "stream",
     "text": [
      "set(['sigma', 'center', 'amplitude'])\n"
     ]
    }
   ],
   "source": [
    "from lmfit.models import GaussianModel\n",
    "# initialize the gaussian model\n",
    "gm = GaussianModel()\n",
    "# take a look at the parameter names\n",
    "print gm.param_names\n",
    "# I get RuntimeError since my numpy version is a little old"
   ]
  },
  {
   "cell_type": "code",
   "execution_count": 6,
   "metadata": {
    "collapsed": false
   },
   "outputs": [
    {
     "name": "stdout",
     "output_type": "stream",
     "text": [
      "[[Model]]\n",
      "    Model(gaussian)\n",
      "[[Fit Statistics]]\n",
      "    # function evals   = 21\n",
      "    # data points      = 19\n",
      "    # variables        = 3\n",
      "    chi-square         = 311.662\n",
      "    reduced chi-square = 19.479\n",
      "[[Variables]]\n",
      "    sigma:       0.99084468 +/- 0.016391 (1.65%) (init= 0.75)\n",
      "    center:      0.07393627 +/- 0.016391 (22.17%) (init= 0)\n",
      "    amplitude:   500.006455 +/- 7.163327 (1.43%) (init= 289.5)\n",
      "    fwhm:        2.33326087 +/- 0.038598 (1.65%)  == '2.3548200*sigma'\n",
      "[[Correlations]] (unreported correlations are <  0.100)\n",
      "    C(sigma, amplitude)          =  0.577 \n"
     ]
    }
   ],
   "source": [
    "# guess parameters\n",
    "par_guess = gm.guess(n,x=xpos)\n",
    "# fit data\n",
    "result = gm.fit(n, par_guess, x=xpos, method='leastsq')\n",
    "# quick look at result\n",
    "print result.fit_report()"
   ]
  },
  {
   "cell_type": "code",
   "execution_count": 7,
   "metadata": {
    "collapsed": false
   },
   "outputs": [
    {
     "name": "stdout",
     "output_type": "stream",
     "text": [
      "500.0064558 7.16332780507\n",
      "0.0739362774797 0.016391203505\n",
      "0.99084468134 0.01639124672\n"
     ]
    }
   ],
   "source": [
    "# get best fit error and stderr\n",
    "print result.params['amplitude'].value,result.params['amplitude'].stderr\n",
    "print result.params['center'].value,result.params['center'].stderr\n",
    "print result.params['sigma'].value,result.params['sigma'].stderr"
   ]
  },
  {
   "cell_type": "code",
   "execution_count": 8,
   "metadata": {
    "collapsed": false,
    "scrolled": true
   },
   "outputs": [
    {
     "data": {
      "text/plain": [
       "[<matplotlib.lines.Line2D at 0x7fb8bac68210>]"
      ]
     },
     "execution_count": 8,
     "metadata": {},
     "output_type": "execute_result"
    },
    {
     "data": {
      "image/png": "[encoded data removed]",
      "text/plain": [
       "<matplotlib.figure.Figure at 0x7fb8bacc8ad0>"
      ]
     },
     "metadata": {},
     "output_type": "display_data"
    }
   ],
   "source": [
    "fig = plt.figure()\n",
    "plt.hist(xdata, bins=bins)\n",
    "plt.plot(xpos, result.best_fit, 'green')"
   ]
  },
  {
   "cell_type": "markdown",
   "metadata": {
    "collapsed": true
   },
   "source": [
    "# If you want the confidence intervals "
   ]
  },
  {
   "cell_type": "code",
   "execution_count": 9,
   "metadata": {
    "collapsed": false
   },
   "outputs": [],
   "source": [
    "import lmfit\n",
    "def my_gaussian_model(p, x, y):\n",
    "    a = np.float(p['a'])\n",
    "    b = np.float(p['b'])\n",
    "    c = np.float(p['c'])\n",
    "    return a/np.sqrt(2.*c) * np.exp( -np.power(x-b,2.)/2./np.power(c, 2.)) - y\n",
    "pars = lmfit.Parameters()\n",
    "pars.add_many(('a',0.1), ('b',0.1), ('c',0.1))"
   ]
  },
  {
   "cell_type": "code",
   "execution_count": 10,
   "metadata": {
    "collapsed": false
   },
   "outputs": [
    {
     "name": "stdout",
     "output_type": "stream",
     "text": [
      "[[Variables]]\n",
      "    a:   283.398719 +/- 3.315086 (1.17%) (init= 0.1)\n",
      "    b:   0.07393573 +/- 0.016391 (22.17%) (init= 0.1)\n",
      "    c:   0.99084415 +/- 0.016391 (1.65%) (init= 0.1)\n",
      "[[Correlations]] (unreported correlations are <  0.100)\n"
     ]
    }
   ],
   "source": [
    "# initialize the minimizer\n",
    "mini = lmfit.Minimizer(my_gaussian_model, pars, (xpos, n))\n",
    "\n",
    "# do the minimization\n",
    "result = mini.minimize(method='leastsq')\n",
    "\n",
    "# print the fit report\n",
    "print lmfit.fit_report(mini.params)\n",
    "\n",
    "# NOTE\n",
    "# the parameter 'a' in function my_gaussian_model is different from the built-in model in lmfit\n",
    "# so the amplitude value is a little different"
   ]
  },
  {
   "cell_type": "code",
   "execution_count": 11,
   "metadata": {
    "collapsed": false,
    "scrolled": false
   },
   "outputs": [
    {
     "name": "stdout",
     "output_type": "stream",
     "text": [
      "     95.00%    68.00%     0.00%    68.00%    95.00%\n",
      "a 276.37442 280.00241 283.39872 286.79468 290.42302\n",
      "c   0.95680   0.97421   0.99084   1.00779   1.02609\n",
      "b   0.03912   0.05709   0.07394   0.09077   0.10869\n"
     ]
    }
   ],
   "source": [
    "# predit the confidence interval of all parameters\n",
    "ci, trace = lmfit.conf_interval(mini, sigmas=[0.68,0.95],\n",
    "                                trace=True, verbose=False)\n",
    "# ci = lmfit.conf_interval(mini)\n",
    "lmfit.printfuncs.report_ci(ci)"
   ]
  },
  {
   "cell_type": "code",
   "execution_count": 12,
   "metadata": {
    "collapsed": false
   },
   "outputs": [
    {
     "name": "stdout",
     "output_type": "stream",
     "text": [
      "[[(0.95, 276.37442131841283), (0.68, 280.002413883596), (0.0, 283.39871983546033), (0.68, 286.794684757274), (0.95, 290.4230160561106)], [(0.95, 0.9568030716402023), (0.68, 0.9742107677647883), (0.0, 0.99084407879876579), (0.68, 1.0077873699112407), (0.95, 1.0260932669362002)], [(0.95, 0.03911599012373461), (0.68, 0.05709015222817265), (0.0, 0.073935690008488361), (0.68, 0.09076606864537777), (0.95, 0.10869064689812913)]]\n"
     ]
    }
   ],
   "source": [
    "print ci.values()"
   ]
  },
  {
   "cell_type": "code",
   "execution_count": 13,
   "metadata": {
    "collapsed": false
   },
   "outputs": [
    {
     "data": {
      "text/plain": [
       "<matplotlib.text.Text at 0x7fb8bab47f10>"
      ]
     },
     "execution_count": 13,
     "metadata": {},
     "output_type": "execute_result"
    },
    {
     "data": {
      "image/png": "[encoded data removed]",
      "text/plain": [
       "<matplotlib.figure.Figure at 0x7fb8e109fad0>"
      ]
     },
     "metadata": {},
     "output_type": "display_data"
    }
   ],
   "source": [
    "a,b,prob = trace['a']['a'], trace['a']['b'], trace['a']['prob']\n",
    "\n",
    "cx, cy, grid = lmfit.conf_interval2d(mini,  'a','b',30,30)\n",
    "plt.contourf(cx, cy, grid, np.linspace(0,1,11))\n",
    "plt.xlabel('a')\n",
    "plt.colorbar()\n",
    "plt.ylabel('b')"
   ]
  },
  {
   "cell_type": "markdown",
   "metadata": {},
   "source": [
    "# Other ways to do Gaussian fitting\n",
    "## use the astropy.modeling\n",
    "astropy provides full documentation on their website\n",
    "```python\n",
    "from astropy.modeling import models\n",
    "blablabla\n",
    "```\n",
    "\n",
    "## use the scipy.optimize\n",
    "```python\n",
    "import scipy.optimize as opt\n",
    "opt.minimize(...)\n",
    "```\n",
    "\n",
    "# Conclusion:\n",
    "## I am too lazy, so I use *lmfit* which provides simple error estimations\n"
   ]
  },
  {
   "cell_type": "code",
   "execution_count": null,
   "metadata": {
    "collapsed": true
   },
   "outputs": [],
   "source": []
  }
 ],
 "metadata": {
  "kernelspec": {
   "display_name": "Python 2",
   "language": "python",
   "name": "python2"
  },
  "language_info": {
   "codemirror_mode": {
    "name": "ipython",
    "version": 2
   },
   "file_extension": ".py",
   "mimetype": "text/x-python",
   "name": "python",
   "nbconvert_exporter": "python",
   "pygments_lexer": "ipython2",
   "version": "2.7.6"
  }
 },
 "nbformat": 4,
 "nbformat_minor": 0
}
