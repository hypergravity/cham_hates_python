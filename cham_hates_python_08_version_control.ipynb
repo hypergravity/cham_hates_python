{
 "cells": [
  {
   "cell_type": "markdown",
   "metadata": {},
   "source": [
    "<img src=\"https://www.python.org/static/img/python-logo.png\">\n",
    "\n",
    "# Welcome to my lessons\n",
    "\n",
    "---\n",
    "\n",
    "**Bo Zhang** (NAOC, <mailto:bozhang@nao.cas.cn>) will have a few lessons on python.\n",
    "\n",
    "- These are **very useful knowledge, skills and code styles** when you use `python` to process astronomical data.\n",
    "- All materials can be found on [**my github page**](https://github.com/hypergravity/cham_teaches_python).\n",
    "- **jupyter notebook** (formerly named **ipython notebook**) is recommeded to use\n",
    "\n",
    "---\n",
    "These lectures are organized as below:\n",
    "1. install python\n",
    "2. basic syntax\n",
    "3. numerical computing\n",
    "4. scientific computing\n",
    "5. plotting\n",
    "6. astronomical data processing\n",
    "7. high performance computing\n",
    "8. version control\n"
   ]
  },
  {
   "cell_type": "markdown",
   "metadata": {},
   "source": [
    "# Steps to set up an account and a new repository\n",
    "1. Register an account, i.e., hypergravity. Then the page on github would be [https://github.com/hypergravity](https://github.com/hypergravity)\n",
    "1. Add a new repository, say, bopy. The link is [https://github.com/hypergravity/bopy.git](https://github.com/hypergravity/bopy.git)\n",
    "1. Generate rsa key: `$ ssh-keygen -t rsa -b 4096 -C \"your_email@example.com\"`\n",
    "1. Copy the key, and paste it in the Github account: `$ gedit ~/.ssh/id_rsa.pub`"
   ]
  },
  {
   "cell_type": "markdown",
   "metadata": {},
   "source": [
    "# Useful software: **gitk**\n",
    "To install **gitk**, type:\n",
    "\n",
    "    $ sudo apt-get install gitk\n",
    "\n",
    "Check whether **gitk** is installed:\n",
    "\n",
    "    $ which gitk\n",
    "\n",
    "If installed, it will tell you:\n",
    "\n",
    "    /usr/bin/gitk"
   ]
  },
  {
   "cell_type": "markdown",
   "metadata": {},
   "source": [
    "# Useful commands - local to remote\n",
    "There are several commands very useful:\n",
    "\n",
    "    git init\n",
    "    git add .\n",
    "    git commit -m \"First commit\"\n",
    "    git remote add origin https://github.com/hypergravity/bopy.git\n",
    "    git push origin master\n",
    "    # Pushes the changes in your local repository up to the remote repository\n",
    "    # you specified as the origin"
   ]
  },
  {
   "cell_type": "markdown",
   "metadata": {},
   "source": [
    "# Code history\n",
    "    git status\n",
    "    git log\n",
    "    git reset --hard 723a0f617fabcc9f1bb4c350d6e51a5d35fe1029\n",
    "    git push --force"
   ]
  },
  {
   "cell_type": "markdown",
   "metadata": {},
   "source": [
    "# Useful videos (Chinese)\n",
    "\n",
    "[http://www.tudou.com/programs/view/7RqMt2ArmUY/](http://www.tudou.com/programs/view/7RqMt2ArmUY/)\n",
    "\n",
    "[http://www.tudou.com/programs/view/la2AcmOLa6U/](http://www.tudou.com/programs/view/la2AcmOLa6U/)\n",
    "\n",
    "\n",
    "# Quick setup\n",
    "[https://help.github.com/articles/adding-an-existing-project-to-github-using-the-command-line/](https://help.github.com/articles/adding-an-existing-project-to-github-using-the-command-line/)\n",
    "\n",
    "# Reference\n",
    "[https://github.com/hypergravity/champy/wiki/How-to-set-up-github](https://github.com/hypergravity/champy/wiki/How-to-set-up-github)\n",
    "\n"
   ]
  },
  {
   "cell_type": "markdown",
   "metadata": {
    "collapsed": true
   },
   "source": [
    "# HOMEWORK\n",
    "1. try to setup a repository on [github](github.com) yourself\n",
    "2. add README.md\n",
    "3. add some lines of code in it\n",
    "4. commit and push"
   ]
  },
  {
   "cell_type": "code",
   "execution_count": null,
   "metadata": {
    "collapsed": true
   },
   "outputs": [],
   "source": []
  }
 ],
 "metadata": {
  "kernelspec": {
   "display_name": "Python 2",
   "language": "python",
   "name": "python2"
  },
  "language_info": {
   "codemirror_mode": {
    "name": "ipython",
    "version": 2
   },
   "file_extension": ".py",
   "mimetype": "text/x-python",
   "name": "python",
   "nbconvert_exporter": "python",
   "pygments_lexer": "ipython2",
   "version": "2.7.6"
  }
 },
 "nbformat": 4,
 "nbformat_minor": 0
}
