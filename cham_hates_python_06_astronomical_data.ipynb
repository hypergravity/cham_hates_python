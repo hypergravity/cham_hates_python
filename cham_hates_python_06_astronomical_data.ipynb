{
 "cells": [
  {
   "cell_type": "markdown",
   "metadata": {},
   "source": [
    "<img src=\"https://www.python.org/static/img/python-logo.png\">\n",
    "\n",
    "# Welcome to my lessons\n",
    "\n",
    "---\n",
    "\n",
    "**Bo Zhang** (NAOC, <mailto:bozhang@nao.cas.cn>) will have a few lessons on python.\n",
    "\n",
    "- These are **very useful knowledge, skills and code styles** when you use `python` to process astronomical data.\n",
    "- All materials can be found on [**my github page**](https://github.com/hypergravity/cham_teaches_python).\n",
    "- **jupyter notebook** (formerly named **ipython notebook**) is recommeded to use\n",
    "\n",
    "---\n",
    "These lectures are organized as below:\n",
    "1. install python\n",
    "2. basic syntax\n",
    "3. numerical computing\n",
    "4. scientific computing\n",
    "5. plotting\n",
    "6. astronomical data processing\n",
    "7. high performance computing\n",
    "8. version control\n"
   ]
  },
  {
   "cell_type": "markdown",
   "metadata": {
    "collapsed": true
   },
   "source": [
    "# Astronomical data format standard - .fits files\n",
    "- HDUs\n",
    " * Primary HDU\n",
    " * Image HDU\n",
    " * BinTable HDU (Binary Table)\n",
    "- HDU header\n",
    " - keywords\n",
    " - column information for tables\n",
    "- HDU data\n",
    "\n",
    "*reference*: \n",
    "- [http://fits.gsfc.nasa.gov/](http://fits.gsfc.nasa.gov/)\n",
    "- [http://fits.gsfc.nasa.gov/fits_wcs.html](http://fits.gsfc.nasa.gov/fits_wcs.html)\n"
   ]
  },
  {
   "cell_type": "markdown",
   "metadata": {
    "collapsed": true
   },
   "source": [
    "## Usually, you will meet these:\n",
    "- 1d image stored using WCS (world coordinate system)\n",
    " - SDSS DR7 spectra\n",
    " - IRAF spectra fits\n",
    "- 2d image stored using WCS (world coordinate system)\n",
    " - all photometry images (2MASS, WISE, ...)\n",
    "- table / catalog\n",
    " - LAMOST catalog\n",
    " - SDSS DR10/12 spectra"
   ]
  },
  {
   "cell_type": "code",
   "execution_count": 1,
   "metadata": {
    "collapsed": false
   },
   "outputs": [
    {
     "name": "stdout",
     "output_type": "stream",
     "text": [
      "Populating the interactive namespace from numpy and matplotlib\n"
     ]
    }
   ],
   "source": [
    "%pylab inline\n",
    "from astropy.io import fits\n",
    "\n",
    "# read hdu list\n",
    "hl = fits.open('./data/lamost_dr2_spectra/spec-55892-F9205_sp09-174.fits')"
   ]
  },
  {
   "cell_type": "code",
   "execution_count": 2,
   "metadata": {
    "collapsed": false
   },
   "outputs": [
    {
     "name": "stdout",
     "output_type": "stream",
     "text": [
      "Filename: ./data/lamost_dr2_spectra/spec-55892-F9205_sp09-174.fits\n",
      "No.    Name         Type      Cards   Dimensions   Format\n",
      "0    Flux        PrimaryHDU     132   (3903, 5)    float32   \n",
      "None\n"
     ]
    }
   ],
   "source": [
    "# show fits info\n",
    "print hl.info()"
   ]
  },
  {
   "cell_type": "code",
   "execution_count": 3,
   "metadata": {
    "collapsed": false,
    "scrolled": true
   },
   "outputs": [
    {
     "data": {
      "text/plain": [
       "SIMPLE  =                    T /Primary Header created by MWRFITS v1.11b        \n",
       "BITPIX  =                  -32 /                                                \n",
       "NAXIS   =                    2 / Number of array dimensions                     \n",
       "NAXIS1  =                 3903 /                                                \n",
       "NAXIS2  =                    5 /                                                \n",
       "EXTEND  =                    T /                                                \n",
       "                                                                                \n",
       "COMMENT --------FILE INFORMATION                                                \n",
       "FILENAME= 'spec-55892-F9205_sp09-174.fits' /                                    \n",
       "OBSID   =                20566 / Unique number ID of this spectrum              \n",
       "AUTHOR  = 'LAMOST Pipeline'    / Who compiled the information                   \n",
       "DATA_V  = 'LAMOST DR3'         / Data release version                           \n",
       "EXTEN0  = 'Flux, Inverse, Wavelength, Andmask, Ormask' /                        \n",
       "N_EXTEN =                    1 / The extension number                           \n",
       "EXTNAME = 'Flux    '           / The extension name                             \n",
       "ORIGIN  = 'NAOC-LAMOST'        / Organization responsible for creating this file\n",
       "DATE    = '2015-12-16T13:29:15' / Time when this HDU is created (UTC)           \n",
       "COMMENT --------TELESCOPE PARAMETERS                                            \n",
       "TELESCOP= 'LAMOST  '           / GuoShouJing Telescope                          \n",
       "LONGITUD=               117.58 / [deg] Longitude of site                        \n",
       "LATITUDE=                40.39 / [deg] Latitude of site                         \n",
       "FOCUS   =                19964 / [mm] Telescope focus                           \n",
       "CAMPRO  = 'NEWCAM  '           / Camera program name                            \n",
       "CAMVER  = 'v2.0    '           / Camera program version                         \n",
       "COMMENT --------OBSERVATION PARAMETERS                                          \n",
       "DATE-OBS= '2011-11-26T19:40:26.84' / The observation median UTC                 \n",
       "DATE-BEG= '2011-11-27T03:07:13.0' / The observation start local time            \n",
       "DATE-END= '2011-11-27T04:55:45.0' / The observation end local time              \n",
       "LMJD    =                55892 / Local Modified Julian Day                      \n",
       "MJD     =                55891 / Modified Julian Day                            \n",
       "LMJMLIST= '80484661-80484699-80484739' / Local Modified Julian Minute list      \n",
       "PLANID  = 'F9205   '           / Plan ID in use                                 \n",
       "RA      =           123.396690 / [deg] Right ascension of object                \n",
       "DEC     =             6.963130 / [deg] Declination of object                    \n",
       "RA_OBS  =           123.396690 / [deg] Right ascension during observing         \n",
       "DEC_OBS =             6.963130 / [deg] Declination during observing             \n",
       "OFFSET  =                    F / Whether there's a offset during observing      \n",
       "OFFSET_V=                 0.00 / Offset value in arcsecond                      \n",
       "DESIG   = 'LAMOST J081335.20+065747.2' / Designation of LAMOST target           \n",
       "FIBERID =                  174 / Fiber ID of Object                             \n",
       "CELL_ID = 'G2826   '           / Fiber Unit ID on the focal plane               \n",
       "X_VALUE =             -171.982 / [mm] X coordinate of object on the focal plane \n",
       "Y_VALUE =             -273.869 / [mm] Y coordinate of object on the focal plane \n",
       "OBJNAME = '257233284699743'    / Name of object                                 \n",
       "OBJTYPE = 'gal     '           / Object type from input catalog                 \n",
       "TSOURCE = 'PILOT   '           / Name of input catalog                          \n",
       "TCOMMENT= 'No      '           / Target information                             \n",
       "TFROM   = '-       '           / Target catalog                                 \n",
       "FIBERTYP= 'Obj     '           / Fiber type of object                           \n",
       "MAGTYPE = 'ugriz   '           / Magnitude type of object                       \n",
       "MAG1    =                24.62 / [mag] Mag1 of object                           \n",
       "MAG2    =                16.40 / [mag] Mag2 of object                           \n",
       "MAG3    =                17.78 / [mag] Mag3 of object                           \n",
       "MAG4    =                15.26 / [mag] Mag4 of object                           \n",
       "MAG5    =                22.84 / [mag] Mag5 of object                           \n",
       "MAG6    =                10.00 / [mag] Mag6 of object                           \n",
       "MAG7    =                10.00 / [mag] Mag7 of object                           \n",
       "OBS_TYPE= 'OBJ     '           / The type of target (OBJ, FLAT, ARC or BIAS)    \n",
       "OBSCOMM = 'Science '           / Science or Test                                \n",
       "RADECSYS= 'FK5     '           / Equatorial coordinate system                   \n",
       "EQUINOX =              2000.00 / Equinox in years                               \n",
       "LAMPLIST= 'lamphgcdne.dat'     / Arc lamp emission line list                    \n",
       "SKYLIST = 'skylines.dat'       / Sky emission line list                         \n",
       "EXPID01 = '09b-20111127030708-8-80484661' / ID string for blue exposure 1       \n",
       "EXPID02 = '09b-20111127034533-9-80484699' / ID string for blue exposure 2       \n",
       "EXPID03 = '09b-20111127042507-10-80484739' / ID string for blue exposure 3      \n",
       "EXPID04 = '09r-20111127030742-8-80484661' / ID string for red exposure 1        \n",
       "EXPID05 = '09r-20111127034606-9-80484699' / ID string for red exposure 2        \n",
       "EXPID06 = '09r-20111127042540-10-80484739' / ID string for red exposure 3       \n",
       "NEXP    =                    3 / Number of valid exposures                      \n",
       "NEXP_B  =                    3 / Number of valid blue exposures                 \n",
       "NEXP_R  =                    3 / Number of valid red exposures                  \n",
       "EXPT_B  =              5400.00 / [s] Blue exposure duration time                \n",
       "EXPT_R  =              5400.00 / [s] Red exposure duration time                 \n",
       "EXPTIME =              5400.00 / [s] Minimum of exposure time for all cameras   \n",
       "BESTEXP =             80484661 / MJM of the best exposure                       \n",
       "SCAMEAN =                 3.10 / [ADU] Mean level of scatter light              \n",
       "COMMENT --------SPECTROGRAPH PARAMETERS                                         \n",
       "SPID    =                    9 / Spectrograph ID                                \n",
       "SPRA    =          123.7406162 / [deg] Average RA of this spectrograph          \n",
       "SPDEC   =            6.8539852 / [deg] Average DEC of this spectrograph         \n",
       "SLIT_MOD= 'x2/3    '           / Slit mode, x1, x2/3 or x1/2                    \n",
       "COMMENT --------WEATHER CONDITION                                               \n",
       "TEMPCCDB=              -113.10 / [deg] The temperature of blue CCD              \n",
       "TEMPCCDR=              -122.20 / [deg] The temperature of red CCD               \n",
       "SEEING  =                 3.00 / [arcsec] Seeing during exposure                \n",
       "MOONPHA =                 0.01 / [day] Moon phase for a 29.53 days period       \n",
       "TEMP_AIR=                 1.60 / [deg] Temperature outside dome                 \n",
       "TEMP_FP =                 6.30 / [degree celsius] Temprature of the focalplane  \n",
       "DEWPOINT=                -8.60 / [deg]                                          \n",
       "DUST    = '        '           / Reservation                                    \n",
       "HUMIDITY=                 0.50 /                                                \n",
       "WINDD   =                18.70 / [deg] Wind direction                           \n",
       "WINDS   =                 1.40 / [m/s] Wind speed                               \n",
       "SKYLEVEL= '        '           / Reservation                                    \n",
       "COMMENT --------DATA REDUCTION PARAMETERS                                       \n",
       "EXTRACT = 'aperture'           / Extraction method                              \n",
       "SFLATTEN=                    T / Super flat has been applied                    \n",
       "PCASKYSB=                    T / PCA sky-subtraction has been applied           \n",
       "NSKIES  =                   20 / Sky fiber number                               \n",
       "SKYCHI2 =                  2.4 / Mean chi^2 of sky-subtraction                  \n",
       "SCHI2MIN=                  1.6 / Minimum chi^2 of sky-subtraction               \n",
       "SCHI2MAX=                  3.2 / Maximum chi^2 of sky-subtraction               \n",
       "NSTD    =                    5 / Number of (good) standard stars                \n",
       "FSTAR   = '60-76-89-135-152'   / FiberID of flux standard stars                 \n",
       "FCBY    = 'catalog '           / Standard stars origin (auto, manual or catalog)\n",
       "HELIO   =                    T / Heliocentric correction                        \n",
       "HELIO_RV=            -25.38969 / [km/s] Heliocentric correction                 \n",
       "VACUUM  =                    T / Wavelengths are in vacuum                      \n",
       "NWORDER =                    2 / Number of linear-log10 coefficients            \n",
       "WFITTYPE= 'LOG-LINEAR'         / Linear-log10 dispersion                        \n",
       "COEFF0  =               3.5682 / Central wavelength (log10) of first pixel      \n",
       "COEFF1  =               0.0001 / Log10 dispersion per pixel                     \n",
       "WAT0_001= 'system=linear'      /                                                \n",
       "WAT1_001= 'wtype=linear label=Wavelength units=Angstroms' /                     \n",
       "CRVAL1  =               3.5682 / Central wavelength (log10) of first pixel      \n",
       "CD1_1   =               0.0001 / Log10 dispersion per pixel                     \n",
       "CRPIX1  =                    1 / Starting pixel (1-indexed)                     \n",
       "CTYPE1  = 'LINEAR  '           /                                                \n",
       "DC-FLAG =                    1 / Log-linear flag                                \n",
       "COMMENT --------SPECTRA ANALYSIS RESULTS                                        \n",
       "VERSPIPE= 'v2.7.5  '           / Version of Pipeline                            \n",
       "CLASS   = 'STAR    '           / Class of object                                \n",
       "SUBCLASS= 'F0      '           / Subclass of object                             \n",
       "Z       =          -0.00001500 / Redshift of object                             \n",
       "Z_ERR   =           0.00007800 / Redshift error of object                       \n",
       "ZFLAG   = 'LASP    '           / Which method computes the redshift             \n",
       "SNRU    =               164.85 / SNR of u filter                                \n",
       "SNRG    =               446.69 / SNR of g filter                                \n",
       "SNRR    =               590.62 / SNR of r filter                                \n",
       "SNRI    =               570.01 / SNR of i filter                                \n",
       "SNRZ    =               376.18 / SNR of z filter                                "
      ]
     },
     "execution_count": 3,
     "metadata": {},
     "output_type": "execute_result"
    }
   ],
   "source": [
    "# read HDU header\n",
    "hl[0].header"
   ]
  },
  {
   "cell_type": "code",
   "execution_count": 4,
   "metadata": {
    "collapsed": false,
    "scrolled": true
   },
   "outputs": [
    {
     "data": {
      "text/plain": [
       "array([[  1.73385332e+04,   1.78001680e+04,   1.74559727e+04, ...,\n",
       "          0.00000000e+00,   0.00000000e+00,   0.00000000e+00],\n",
       "       [  5.20499998e-05,   5.11758699e-05,   5.23977396e-05, ...,\n",
       "          0.00000000e+00,   0.00000000e+00,   0.00000000e+00],\n",
       "       [  3.69998633e+03,   3.70083838e+03,   3.70169067e+03, ...,\n",
       "          9.08238965e+03,   9.08448047e+03,   9.08657324e+03],\n",
       "       [  0.00000000e+00,   0.00000000e+00,   0.00000000e+00, ...,\n",
       "          0.00000000e+00,   0.00000000e+00,   0.00000000e+00],\n",
       "       [  0.00000000e+00,   0.00000000e+00,   0.00000000e+00, ...,\n",
       "          0.00000000e+00,   0.00000000e+00,   0.00000000e+00]], dtype=float32)"
      ]
     },
     "execution_count": 4,
     "metadata": {},
     "output_type": "execute_result"
    }
   ],
   "source": [
    "# read HDU data\n",
    "hl[0].data"
   ]
  },
  {
   "cell_type": "code",
   "execution_count": 5,
   "metadata": {
    "collapsed": false
   },
   "outputs": [
    {
     "name": "stdout",
     "output_type": "stream",
     "text": [
      "[ 3699.98531173  3700.83736292  3701.68961033 ...,  9082.3869326\n",
      "  9084.47847027  9086.57048958]\n",
      "[ 17338.53320312  17800.16796875  17455.97265625 ...,      0.              0.\n",
      "      0.        ]\n"
     ]
    }
   ],
   "source": [
    "# transform data to WVS coordinates\n",
    "naxis1 = hl[0].header['NAXIS1']\n",
    "crval1 = hl[0].header['CRVAL1']\n",
    "crpix1 = hl[0].header['CRPIX1']\n",
    "cdelt1 = hl[0].header['CD1_1']\n",
    "\n",
    "wave = 10**( crval1 + (np.arange(naxis1)+1-crpix1)*cdelt1)\n",
    "print wave\n",
    "\n",
    "flux = hl[0].data[0, :]\n",
    "print flux"
   ]
  },
  {
   "cell_type": "code",
   "execution_count": 6,
   "metadata": {
    "collapsed": false
   },
   "outputs": [
    {
     "data": {
      "text/plain": [
       "[<matplotlib.lines.Line2D at 0x7eff25e74bd0>]"
      ]
     },
     "execution_count": 6,
     "metadata": {},
     "output_type": "execute_result"
    },
    {
     "data": {
      "image/png": "[encoded data removed]",
      "text/plain": [
       "<matplotlib.figure.Figure at 0x7eff27f08750>"
      ]
     },
     "metadata": {},
     "output_type": "display_data"
    }
   ],
   "source": [
    "fig = plt.figure(figsize=(15,8 ))\n",
    "plt.plot(wave, flux)"
   ]
  },
  {
   "cell_type": "code",
   "execution_count": 7,
   "metadata": {
    "collapsed": false
   },
   "outputs": [
    {
     "data": {
      "text/plain": [
       "<bound method Table.pprint of <Table length=3903>\n",
       "     wave       flux \n",
       "   float64    float32\n",
       "------------- -------\n",
       "3699.98531173 17338.5\n",
       "3700.83736292 17800.2\n",
       "3701.68961033 17456.0\n",
       "  3702.542054 17002.9\n",
       "3703.39469398 15677.3\n",
       " 3704.2475303 14652.4\n",
       "3705.10056302 14114.7\n",
       "3705.95379218 13921.9\n",
       "3706.80721783 14344.3\n",
       "   3707.66084 14902.9\n",
       "          ...     ...\n",
       "9067.75964584     0.0\n",
       "9069.84781506     0.0\n",
       "9071.93646515     0.0\n",
       "9074.02559623     0.0\n",
       " 9076.1152084     0.0\n",
       "9078.20530178     0.0\n",
       "9080.29587648     0.0\n",
       " 9082.3869326     0.0\n",
       "9084.47847027     0.0\n",
       "9086.57048958     0.0>"
      ]
     },
     "execution_count": 7,
     "metadata": {},
     "output_type": "execute_result"
    }
   ],
   "source": [
    "from astropy.table import Table, Column\n",
    "spec_table = Table([Column(wave, 'wave'),\n",
    "                    Column(flux, 'flux')])\n",
    "# Table.write('./data/lamost_dr2_spectra/test_spec_table.fits')\n",
    "spec_table.pprint\n"
   ]
  },
  {
   "cell_type": "code",
   "execution_count": null,
   "metadata": {
    "collapsed": true
   },
   "outputs": [],
   "source": []
  },
  {
   "cell_type": "markdown",
   "metadata": {
    "collapsed": true
   },
   "source": [
    "# how to convert (ra, dec) to (l, b)"
   ]
  },
  {
   "cell_type": "code",
   "execution_count": 8,
   "metadata": {
    "collapsed": false
   },
   "outputs": [
    {
     "name": "stdout",
     "output_type": "stream",
     "text": [
      "Using matplotlib backend: TkAgg\n",
      "Populating the interactive namespace from numpy and matplotlib\n"
     ]
    }
   ],
   "source": [
    "%pylab\n",
    "from astropy.coordinates import SkyCoord, Longitude, Latitude\n",
    "import astropy.units as u"
   ]
  },
  {
   "cell_type": "code",
   "execution_count": 9,
   "metadata": {
    "collapsed": false
   },
   "outputs": [
    {
     "data": {
      "text/plain": [
       "<SkyCoord (ICRS): (ra, dec) in deg\n",
       "    [(1.0, 4.5), (2.0, 5.2), (3.0, 6.3)]>"
      ]
     },
     "execution_count": 9,
     "metadata": {},
     "output_type": "execute_result"
    }
   ],
   "source": [
    "ra = Longitude([1, 2, 3], unit=u.deg)  # Could also use Angle\n",
    "dec = np.array([4.5, 5.2, 6.3]) * u.deg  # Astropy Quantity\n",
    "c = SkyCoord(ra, dec, frame='icrs')\n",
    "c"
   ]
  },
  {
   "cell_type": "code",
   "execution_count": 10,
   "metadata": {
    "collapsed": false
   },
   "outputs": [
    {
     "name": "stdout",
     "output_type": "stream",
     "text": [
      "dtype = object\n",
      "unit = deg,deg\n",
      "class = SkyCoord\n",
      "n_bad = 0\n",
      "length = 3\n"
     ]
    }
   ],
   "source": [
    "c.info()"
   ]
  },
  {
   "cell_type": "code",
   "execution_count": 11,
   "metadata": {
    "collapsed": false
   },
   "outputs": [
    {
     "data": {
      "text/plain": [
       "<SkyCoord (Galactic): (l, b) in deg\n",
       "    [(101.22678436, -56.35949807), (103.32241344, -56.00907284),\n",
       "     (105.56483231, -55.23635591)]>"
      ]
     },
     "execution_count": 11,
     "metadata": {},
     "output_type": "execute_result"
    }
   ],
   "source": [
    "c.galactic"
   ]
  },
  {
   "cell_type": "code",
   "execution_count": 12,
   "metadata": {
    "collapsed": false
   },
   "outputs": [
    {
     "data": {
      "text/plain": [
       "(<Longitude [ 101.22678436, 103.32241344, 105.56483231] deg>,\n",
       " <Latitude [-56.35949807,-56.00907284,-55.23635591] deg>)"
      ]
     },
     "execution_count": 12,
     "metadata": {},
     "output_type": "execute_result"
    }
   ],
   "source": [
    "c.galactic.l, c.galactic.b"
   ]
  },
  {
   "cell_type": "code",
   "execution_count": null,
   "metadata": {
    "collapsed": true
   },
   "outputs": [],
   "source": []
  },
  {
   "cell_type": "markdown",
   "metadata": {},
   "source": [
    "# 2-D data (images)\n",
    "recommended packages: **aplpy**, **healpy**\n",
    "\n",
    "temporally these will not be introduced in our course"
   ]
  },
  {
   "cell_type": "markdown",
   "metadata": {
    "collapsed": true
   },
   "source": [
    "# HOMEWORK\n",
    "1. download a LAMOST spectra, and write a function to read data in the fits file.\n",
    "\n",
    "    requirements:\n",
    "    1. usage\n",
    "        ```python\n",
    "        spec = read_spectrum_lamost('filepath')\n",
    "        ```\n",
    "    2. `spec` should be a 5-column table, including these data:\n",
    "    \n",
    "        `wavelength, flux, inverse variance, and-mask, or-mask`\n",
    "\n",
    "hint: the data structure of LAMOST DR2 spectra fits files can be found [here](http://dr2.lamost.org/doc/data-production-description#toc_3)"
   ]
  },
  {
   "cell_type": "code",
   "execution_count": null,
   "metadata": {
    "collapsed": true
   },
   "outputs": [],
   "source": []
  }
 ],
 "metadata": {
  "kernelspec": {
   "display_name": "Python 2",
   "language": "python",
   "name": "python2"
  },
  "language_info": {
   "codemirror_mode": {
    "name": "ipython",
    "version": 2
   },
   "file_extension": ".py",
   "mimetype": "text/x-python",
   "name": "python",
   "nbconvert_exporter": "python",
   "pygments_lexer": "ipython2",
   "version": "2.7.11+"
  }
 },
 "nbformat": 4,
 "nbformat_minor": 0
}
