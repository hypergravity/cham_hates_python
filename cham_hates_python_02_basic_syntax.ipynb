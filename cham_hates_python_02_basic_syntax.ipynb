{
 "cells": [
  {
   "cell_type": "markdown",
   "metadata": {},
   "source": [
    "<img src=\"https://www.python.org/static/img/python-logo.png\">\n",
    "\n",
    "# Welcome to my lessons\n",
    "\n",
    "---\n",
    "\n",
    "**Bo Zhang** (NAOC, <mailto:bozhang@nao.cas.cn>) will have a few lessons on python.\n",
    "\n",
    "- These are **very useful knowledge, skills and code styles** when you use `python` to process astronomical data.\n",
    "- All materials can be found on [**my github page**](https://github.com/hypergravity/cham_teaches_python).\n",
    "- **jupyter notebook** (formerly named **ipython notebook**) is recommeded to use\n",
    "\n",
    "---\n",
    "These lectures are organized as below:\n",
    "1. install python\n",
    "2. basic syntax\n",
    "3. numerical computing\n",
    "4. scientific computing\n",
    "5. plotting\n",
    "6. astronomical data processing\n",
    "7. high performance computing\n",
    "8. version control\n"
   ]
  },
  {
   "cell_type": "markdown",
   "metadata": {},
   "source": [
    "# object"
   ]
  },
  {
   "cell_type": "code",
   "execution_count": 1,
   "metadata": {
    "collapsed": false
   },
   "outputs": [
    {
     "data": {
      "text/plain": [
       "object"
      ]
     },
     "execution_count": 1,
     "metadata": {},
     "output_type": "execute_result"
    }
   ],
   "source": [
    "object"
   ]
  },
  {
   "cell_type": "code",
   "execution_count": 2,
   "metadata": {
    "collapsed": false
   },
   "outputs": [
    {
     "data": {
      "text/plain": [
       "['In',\n",
       " 'Out',\n",
       " '_',\n",
       " '_1',\n",
       " '__',\n",
       " '___',\n",
       " '__builtin__',\n",
       " '__builtins__',\n",
       " '__doc__',\n",
       " '__name__',\n",
       " '_dh',\n",
       " '_i',\n",
       " '_i1',\n",
       " '_i2',\n",
       " '_ih',\n",
       " '_ii',\n",
       " '_iii',\n",
       " '_oh',\n",
       " '_sh',\n",
       " 'exit',\n",
       " 'get_ipython',\n",
       " 'quit']"
      ]
     },
     "execution_count": 2,
     "metadata": {},
     "output_type": "execute_result"
    }
   ],
   "source": [
    "dir()"
   ]
  },
  {
   "cell_type": "code",
   "execution_count": 3,
   "metadata": {
    "collapsed": false
   },
   "outputs": [
    {
     "data": {
      "text/plain": [
       "['', u'object', u'dir()', u'In']"
      ]
     },
     "execution_count": 3,
     "metadata": {},
     "output_type": "execute_result"
    }
   ],
   "source": [
    "In"
   ]
  },
  {
   "cell_type": "code",
   "execution_count": 4,
   "metadata": {
    "collapsed": false
   },
   "outputs": [
    {
     "data": {
      "text/plain": [
       "float"
      ]
     },
     "execution_count": 4,
     "metadata": {},
     "output_type": "execute_result"
    }
   ],
   "source": [
    "a = 1.5\n",
    "type(a)"
   ]
  },
  {
   "cell_type": "code",
   "execution_count": 5,
   "metadata": {
    "collapsed": false
   },
   "outputs": [
    {
     "name": "stdout",
     "output_type": "stream",
     "text": [
      "True\n",
      "True\n"
     ]
    }
   ],
   "source": [
    "print isinstance(a, float)\n",
    "print isinstance(a, object)"
   ]
  },
  {
   "cell_type": "markdown",
   "metadata": {},
   "source": [
    "# Lists and Tuples"
   ]
  },
  {
   "cell_type": "code",
   "execution_count": 6,
   "metadata": {
    "collapsed": false
   },
   "outputs": [
    {
     "data": {
      "text/plain": [
       "list"
      ]
     },
     "execution_count": 6,
     "metadata": {},
     "output_type": "execute_result"
    }
   ],
   "source": [
    "b = [1, 2, 3, 'abc']\n",
    "type(b)"
   ]
  },
  {
   "cell_type": "code",
   "execution_count": 7,
   "metadata": {
    "collapsed": false
   },
   "outputs": [
    {
     "data": {
      "text/plain": [
       "[1, 2, 3, 'abc', 4]"
      ]
     },
     "execution_count": 7,
     "metadata": {},
     "output_type": "execute_result"
    }
   ],
   "source": [
    "b.append(4)\n",
    "b"
   ]
  },
  {
   "cell_type": "code",
   "execution_count": 8,
   "metadata": {
    "collapsed": false
   },
   "outputs": [
    {
     "data": {
      "text/plain": [
       "tuple"
      ]
     },
     "execution_count": 8,
     "metadata": {},
     "output_type": "execute_result"
    }
   ],
   "source": [
    "c = (1, 2, 3, 'abc', 3)\n",
    "type(c)"
   ]
  },
  {
   "cell_type": "code",
   "execution_count": 9,
   "metadata": {
    "collapsed": false
   },
   "outputs": [
    {
     "data": {
      "text/plain": [
       "2"
      ]
     },
     "execution_count": 9,
     "metadata": {},
     "output_type": "execute_result"
    }
   ],
   "source": [
    "c.count(3)"
   ]
  },
  {
   "cell_type": "code",
   "execution_count": 10,
   "metadata": {
    "collapsed": false
   },
   "outputs": [
    {
     "data": {
      "text/plain": [
       "(1, 2, 3, 'abc', 3)"
      ]
     },
     "execution_count": 10,
     "metadata": {},
     "output_type": "execute_result"
    }
   ],
   "source": [
    "c"
   ]
  },
  {
   "cell_type": "markdown",
   "metadata": {},
   "source": [
    "# Dictionaries and Sets"
   ]
  },
  {
   "cell_type": "code",
   "execution_count": 11,
   "metadata": {
    "collapsed": false
   },
   "outputs": [
    {
     "data": {
      "text/plain": [
       "{'a': 123, 'b': 456}"
      ]
     },
     "execution_count": 11,
     "metadata": {},
     "output_type": "execute_result"
    }
   ],
   "source": [
    "d = {'a': 123, 'b': 456}\n",
    "d"
   ]
  },
  {
   "cell_type": "code",
   "execution_count": 12,
   "metadata": {
    "collapsed": false
   },
   "outputs": [
    {
     "name": "stdout",
     "output_type": "stream",
     "text": [
      "123\n",
      "456\n"
     ]
    }
   ],
   "source": [
    "print d['a']\n",
    "print d['b']"
   ]
  },
  {
   "cell_type": "code",
   "execution_count": 13,
   "metadata": {
    "collapsed": false
   },
   "outputs": [
    {
     "name": "stdout",
     "output_type": "stream",
     "text": [
      "<type 'set'>\n"
     ]
    },
    {
     "data": {
      "text/plain": [
       "{1, 2}"
      ]
     },
     "execution_count": 13,
     "metadata": {},
     "output_type": "execute_result"
    }
   ],
   "source": [
    "e = {1, 2}\n",
    "print type(e)\n",
    "e"
   ]
  },
  {
   "cell_type": "markdown",
   "metadata": {},
   "source": [
    "# Iterators and Generators"
   ]
  },
  {
   "cell_type": "code",
   "execution_count": 14,
   "metadata": {
    "collapsed": false
   },
   "outputs": [
    {
     "name": "stdout",
     "output_type": "stream",
     "text": [
      "0\n",
      "1\n",
      "2\n",
      "3\n",
      "4\n",
      "5\n",
      "6\n",
      "7\n",
      "8\n",
      "9\n",
      "CPU times: user 0 ns, sys: 0 ns, total: 0 ns\n",
      "Wall time: 220 µs\n"
     ]
    }
   ],
   "source": [
    "%%time\n",
    "for i in range(10):\n",
    "    print i"
   ]
  },
  {
   "cell_type": "code",
   "execution_count": 15,
   "metadata": {
    "collapsed": false
   },
   "outputs": [
    {
     "name": "stdout",
     "output_type": "stream",
     "text": [
      "0\n",
      "1\n",
      "2\n",
      "3\n",
      "4\n",
      "5\n",
      "6\n",
      "7\n",
      "8\n",
      "9\n",
      "CPU times: user 0 ns, sys: 0 ns, total: 0 ns\n",
      "Wall time: 249 µs\n"
     ]
    }
   ],
   "source": [
    "%%time\n",
    "for i in xrange(10):\n",
    "    print i"
   ]
  },
  {
   "cell_type": "markdown",
   "metadata": {},
   "source": [
    "- mutable immutable\n",
    "- iterable"
   ]
  },
  {
   "cell_type": "code",
   "execution_count": 16,
   "metadata": {
    "collapsed": false
   },
   "outputs": [
    {
     "name": "stdout",
     "output_type": "stream",
     "text": [
      "<type 'generator'>\n",
      "5\n",
      "4\n",
      "3\n",
      "2\n",
      "5\n",
      "4\n",
      "3\n",
      "2\n",
      "1\n",
      "<type 'NoneType'>\n"
     ]
    }
   ],
   "source": [
    "def f1yield(n):\n",
    "    n0 = 0\n",
    "    while n0 < n:\n",
    "        yield n-n0\n",
    "        n0 += 1\n",
    "\n",
    "def f1print(n):\n",
    "    n0 = 0\n",
    "    while n0 < n:\n",
    "        print n-n0\n",
    "        n0 += 1\n",
    "\n",
    "        \n",
    "f = f1yield(5)\n",
    "print type(f)\n",
    "print f.next()\n",
    "print f.next()\n",
    "print f.next()\n",
    "print f.next()\n",
    "\n",
    "\n",
    "f = f1print(5)\n",
    "print type(f)\n"
   ]
  },
  {
   "cell_type": "markdown",
   "metadata": {},
   "source": [
    "# Decorators"
   ]
  },
  {
   "cell_type": "code",
   "execution_count": 17,
   "metadata": {
    "collapsed": false
   },
   "outputs": [
    {
     "name": "stdout",
     "output_type": "stream",
     "text": [
      "Salesgirl:Hello, what do you want? try_this_shirt\n",
      "I:38 inches is just enough\n"
     ]
    }
   ],
   "source": [
    "def salesgirl(method):\n",
    "    def serve(*args):\n",
    "        print \"Salesgirl:Hello, what do you want?\", method.__name__\n",
    "        method(*args)\n",
    "    return serve\n",
    "   \n",
    "@salesgirl\n",
    "def try_this_shirt(size):\n",
    "    if size < 35:\n",
    "        print \"I: %d inches is to small to me\" %(size)\n",
    "    else:\n",
    "        print \"I:%d inches is just enough\" %(size)\n",
    "try_this_shirt(38) "
   ]
  },
  {
   "cell_type": "code",
   "execution_count": 18,
   "metadata": {
    "collapsed": false
   },
   "outputs": [
    {
     "name": "stdout",
     "output_type": "stream",
     "text": [
      "<type 'function'>\n",
      "<type 'function'>\n"
     ]
    }
   ],
   "source": [
    "print type(salesgirl)\n",
    "print type(try_this_shirt)"
   ]
  },
  {
   "cell_type": "markdown",
   "metadata": {},
   "source": [
    "# lambda"
   ]
  },
  {
   "cell_type": "code",
   "execution_count": 19,
   "metadata": {
    "collapsed": false
   },
   "outputs": [
    {
     "name": "stdout",
     "output_type": "stream",
     "text": [
      "20\n",
      "20\n"
     ]
    }
   ],
   "source": [
    "def f2(x):\n",
    "    return 2*x\n",
    "\n",
    "l2 = lambda x: 2*x\n",
    "\n",
    "print f2(10)\n",
    "print l2(10)"
   ]
  },
  {
   "cell_type": "code",
   "execution_count": 20,
   "metadata": {
    "collapsed": false
   },
   "outputs": [
    {
     "name": "stdout",
     "output_type": "stream",
     "text": [
      "<type 'function'>\n",
      "<type 'function'>\n"
     ]
    }
   ],
   "source": [
    "print type(f2)\n",
    "print type(l2)"
   ]
  },
  {
   "cell_type": "code",
   "execution_count": 21,
   "metadata": {
    "collapsed": false
   },
   "outputs": [
    {
     "name": "stdout",
     "output_type": "stream",
     "text": [
      "<function f2 at 0x7f0b94286230>\n"
     ]
    }
   ],
   "source": [
    "print f2"
   ]
  },
  {
   "cell_type": "code",
   "execution_count": 22,
   "metadata": {
    "collapsed": false
   },
   "outputs": [
    {
     "name": "stdout",
     "output_type": "stream",
     "text": [
      "<function <lambda> at 0x7f0b94286398>\n"
     ]
    }
   ],
   "source": [
    "print l2"
   ]
  },
  {
   "cell_type": "code",
   "execution_count": null,
   "metadata": {
    "collapsed": true
   },
   "outputs": [],
   "source": []
  },
  {
   "cell_type": "markdown",
   "metadata": {},
   "source": [
    "# class\n",
    "you should understand the difference between \"**class**\" and \"**instance**\""
   ]
  },
  {
   "cell_type": "code",
   "execution_count": 23,
   "metadata": {
    "collapsed": false
   },
   "outputs": [
    {
     "name": "stdout",
     "output_type": "stream",
     "text": [
      "\n",
      "name:                      Jim\n",
      "height:                    180.0\n",
      "weight:                    140.0\n",
      "energy:                    100.0\n",
      "energy_cost_per_work_hour: 10.0\n",
      "energy_per_meal:           90.0\n",
      "\n",
      "name:                      Jim\n",
      "height:                    180.0\n",
      "weight:                    140.0\n",
      "energy:                    50.0\n",
      "energy_cost_per_work_hour: 10.0\n",
      "energy_per_meal:           90.0\n",
      "\n",
      "name:                      Jim\n",
      "height:                    180.0\n",
      "weight:                    140.0\n",
      "energy:                    100.0\n",
      "energy_cost_per_work_hour: 10.0\n",
      "energy_per_meal:           90.0\n"
     ]
    }
   ],
   "source": [
    "class People():\n",
    "    \"\"\"here we define the People class\n",
    "    \"\"\"\n",
    "    name = ''\n",
    "    height = 180. # cm \n",
    "    weight = 140. # pound\n",
    "    energy = 100. # percent\n",
    "    energy_cost_per_work_hour = 10.    # percent energy per work hour\n",
    "    energy_per_meal = 90. # percent energy per meal\n",
    "    \n",
    "    def __init__(self, name='', height=180., weight=140., energy=100.):\n",
    "        self.name = name\n",
    "        self.height = height\n",
    "        self.weight = weight\n",
    "        self.energy = energy\n",
    "    \n",
    "    def work(self, hours=1.):\n",
    "        if hours > 0. and hours < 10. and hours < self.energy/self.energy_cost_per_work_hour:\n",
    "            self.energy -= hours*self.energy_cost_per_work_hour\n",
    "        else:\n",
    "            if hours <= 0.:\n",
    "                raise ValueError('@Cham: hours must be positive!')\n",
    "            else:\n",
    "                raise ValueError('@Cham: energy ran out!')\n",
    "    \n",
    "    def eat(self, num_meal=1.):\n",
    "        if num_meal > 0. and num_meal <= 5.:\n",
    "            self.energy += num_meal*self.energy_per_meal\n",
    "            if self.energy > 100.:\n",
    "                self.energy = 100.\n",
    "        else:\n",
    "            if num_meal <= 0.:\n",
    "                raise ValueError('@Cham: number of meals must be positive!')\n",
    "            else:\n",
    "                raise ValueError('@Cham: too many meals!')\n",
    "                \n",
    "    def print_status(self):\n",
    "        print ''\n",
    "        print 'name:                      %s' % self.name\n",
    "        print 'height:                    %s' % self.height\n",
    "        print 'weight:                    %s' % self.weight\n",
    "        print 'energy:                    %s' % self.energy\n",
    "        print 'energy_cost_per_work_hour: %s' % self.energy_cost_per_work_hour\n",
    "        print 'energy_per_meal:           %s' % self.energy_per_meal\n",
    "        \n",
    "jim = People('Jim')\n",
    "jim.print_status()\n",
    "jim.work(5)\n",
    "jim.print_status()\n",
    "jim.eat(2)\n",
    "jim.print_status()\n"
   ]
  },
  {
   "cell_type": "markdown",
   "metadata": {
    "collapsed": true
   },
   "source": [
    "# HOMEWORK\n",
    "1. use generator to generate the Fibonacci sequence\n",
    "2. try to define a simple class"
   ]
  },
  {
   "cell_type": "code",
   "execution_count": null,
   "metadata": {
    "collapsed": true
   },
   "outputs": [],
   "source": []
  }
 ],
 "metadata": {
  "kernelspec": {
   "display_name": "Python 2",
   "language": "python",
   "name": "python2"
  },
  "language_info": {
   "codemirror_mode": {
    "name": "ipython",
    "version": 2
   },
   "file_extension": ".py",
   "mimetype": "text/x-python",
   "name": "python",
   "nbconvert_exporter": "python",
   "pygments_lexer": "ipython2",
   "version": "2.7.11+"
  }
 },
 "nbformat": 4,
 "nbformat_minor": 0
}
